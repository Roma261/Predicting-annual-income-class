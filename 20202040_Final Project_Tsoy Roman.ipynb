{
 "cells": [
  {
   "cell_type": "markdown",
   "id": "ac6a0d8c",
   "metadata": {},
   "source": [
    "# UNIST IE30301 Data Mining\n",
    "## Final Project\n",
    "### Tsoy Roman ID:20202040"
   ]
  },
  {
   "cell_type": "markdown",
   "id": "d0209436",
   "metadata": {},
   "source": [
    "Hypothesis:In the United States, the number of men and women who have annual income >50K is the highest, when the relationship status of man - husband,and woman-wife."
   ]
  },
  {
   "cell_type": "code",
   "execution_count": 191,
   "id": "48a01b56",
   "metadata": {},
   "outputs": [],
   "source": [
    "# Import Library\n",
    "import numpy as np\n",
    "import pandas as pd\n",
    "import matplotlib.pyplot as plt\n",
    "import seaborn as sns\n",
    "import os"
   ]
  },
  {
   "cell_type": "markdown",
   "id": "a86010e3",
   "metadata": {},
   "source": [
    "Loading data"
   ]
  },
  {
   "cell_type": "code",
   "execution_count": 192,
   "id": "f335d04d",
   "metadata": {},
   "outputs": [],
   "source": [
    "# Load Data to df\n",
    "df = pd.read_csv('classification_project.csv')"
   ]
  },
  {
   "cell_type": "code",
   "execution_count": 193,
   "id": "88d03af0",
   "metadata": {},
   "outputs": [
    {
     "data": {
      "text/html": [
       "<div>\n",
       "<style scoped>\n",
       "    .dataframe tbody tr th:only-of-type {\n",
       "        vertical-align: middle;\n",
       "    }\n",
       "\n",
       "    .dataframe tbody tr th {\n",
       "        vertical-align: top;\n",
       "    }\n",
       "\n",
       "    .dataframe thead th {\n",
       "        text-align: right;\n",
       "    }\n",
       "</style>\n",
       "<table border=\"1\" class=\"dataframe\">\n",
       "  <thead>\n",
       "    <tr style=\"text-align: right;\">\n",
       "      <th></th>\n",
       "      <th>age</th>\n",
       "      <th>workclass</th>\n",
       "      <th>fnlwgt</th>\n",
       "      <th>education</th>\n",
       "      <th>education-num</th>\n",
       "      <th>marital-status</th>\n",
       "      <th>occupation</th>\n",
       "      <th>relationship</th>\n",
       "      <th>race</th>\n",
       "      <th>sex</th>\n",
       "      <th>capital-gain</th>\n",
       "      <th>capital-loss</th>\n",
       "      <th>hours-per-week</th>\n",
       "      <th>native-country</th>\n",
       "      <th>income</th>\n",
       "    </tr>\n",
       "  </thead>\n",
       "  <tbody>\n",
       "    <tr>\n",
       "      <th>0</th>\n",
       "      <td>39</td>\n",
       "      <td>State-gov</td>\n",
       "      <td>77516</td>\n",
       "      <td>Bachelors</td>\n",
       "      <td>13</td>\n",
       "      <td>Never-married</td>\n",
       "      <td>Adm-clerical</td>\n",
       "      <td>Not-in-family</td>\n",
       "      <td>White</td>\n",
       "      <td>Male</td>\n",
       "      <td>2174</td>\n",
       "      <td>0</td>\n",
       "      <td>40</td>\n",
       "      <td>United-States</td>\n",
       "      <td>&lt;=50K</td>\n",
       "    </tr>\n",
       "    <tr>\n",
       "      <th>1</th>\n",
       "      <td>50</td>\n",
       "      <td>Self-emp-not-inc</td>\n",
       "      <td>83311</td>\n",
       "      <td>Bachelors</td>\n",
       "      <td>13</td>\n",
       "      <td>Married-civ-spouse</td>\n",
       "      <td>Exec-managerial</td>\n",
       "      <td>Husband</td>\n",
       "      <td>White</td>\n",
       "      <td>Male</td>\n",
       "      <td>0</td>\n",
       "      <td>0</td>\n",
       "      <td>13</td>\n",
       "      <td>United-States</td>\n",
       "      <td>&lt;=50K</td>\n",
       "    </tr>\n",
       "    <tr>\n",
       "      <th>2</th>\n",
       "      <td>38</td>\n",
       "      <td>Private</td>\n",
       "      <td>215646</td>\n",
       "      <td>HS-grad</td>\n",
       "      <td>9</td>\n",
       "      <td>Divorced</td>\n",
       "      <td>Handlers-cleaners</td>\n",
       "      <td>Not-in-family</td>\n",
       "      <td>White</td>\n",
       "      <td>Male</td>\n",
       "      <td>0</td>\n",
       "      <td>0</td>\n",
       "      <td>40</td>\n",
       "      <td>United-States</td>\n",
       "      <td>&lt;=50K</td>\n",
       "    </tr>\n",
       "    <tr>\n",
       "      <th>3</th>\n",
       "      <td>53</td>\n",
       "      <td>Private</td>\n",
       "      <td>234721</td>\n",
       "      <td>11th</td>\n",
       "      <td>7</td>\n",
       "      <td>Married-civ-spouse</td>\n",
       "      <td>Handlers-cleaners</td>\n",
       "      <td>Husband</td>\n",
       "      <td>Black</td>\n",
       "      <td>Male</td>\n",
       "      <td>0</td>\n",
       "      <td>0</td>\n",
       "      <td>40</td>\n",
       "      <td>United-States</td>\n",
       "      <td>&lt;=50K</td>\n",
       "    </tr>\n",
       "    <tr>\n",
       "      <th>4</th>\n",
       "      <td>28</td>\n",
       "      <td>Private</td>\n",
       "      <td>338409</td>\n",
       "      <td>Bachelors</td>\n",
       "      <td>13</td>\n",
       "      <td>Married-civ-spouse</td>\n",
       "      <td>Prof-specialty</td>\n",
       "      <td>Wife</td>\n",
       "      <td>Black</td>\n",
       "      <td>Female</td>\n",
       "      <td>0</td>\n",
       "      <td>0</td>\n",
       "      <td>40</td>\n",
       "      <td>Cuba</td>\n",
       "      <td>&lt;=50K</td>\n",
       "    </tr>\n",
       "  </tbody>\n",
       "</table>\n",
       "</div>"
      ],
      "text/plain": [
       "   age          workclass   fnlwgt   education   education-num  \\\n",
       "0   39          State-gov    77516   Bachelors              13   \n",
       "1   50   Self-emp-not-inc    83311   Bachelors              13   \n",
       "2   38            Private   215646     HS-grad               9   \n",
       "3   53            Private   234721        11th               7   \n",
       "4   28            Private   338409   Bachelors              13   \n",
       "\n",
       "        marital-status          occupation    relationship    race      sex  \\\n",
       "0        Never-married        Adm-clerical   Not-in-family   White     Male   \n",
       "1   Married-civ-spouse     Exec-managerial         Husband   White     Male   \n",
       "2             Divorced   Handlers-cleaners   Not-in-family   White     Male   \n",
       "3   Married-civ-spouse   Handlers-cleaners         Husband   Black     Male   \n",
       "4   Married-civ-spouse      Prof-specialty            Wife   Black   Female   \n",
       "\n",
       "    capital-gain   capital-loss   hours-per-week  native-country  income  \n",
       "0           2174              0               40   United-States   <=50K  \n",
       "1              0              0               13   United-States   <=50K  \n",
       "2              0              0               40   United-States   <=50K  \n",
       "3              0              0               40   United-States   <=50K  \n",
       "4              0              0               40            Cuba   <=50K  "
      ]
     },
     "execution_count": 193,
     "metadata": {},
     "output_type": "execute_result"
    }
   ],
   "source": [
    "df.head()"
   ]
  },
  {
   "cell_type": "code",
   "execution_count": 194,
   "id": "de174bd8",
   "metadata": {},
   "outputs": [
    {
     "data": {
      "text/html": [
       "<div>\n",
       "<style scoped>\n",
       "    .dataframe tbody tr th:only-of-type {\n",
       "        vertical-align: middle;\n",
       "    }\n",
       "\n",
       "    .dataframe tbody tr th {\n",
       "        vertical-align: top;\n",
       "    }\n",
       "\n",
       "    .dataframe thead th {\n",
       "        text-align: right;\n",
       "    }\n",
       "</style>\n",
       "<table border=\"1\" class=\"dataframe\">\n",
       "  <thead>\n",
       "    <tr style=\"text-align: right;\">\n",
       "      <th></th>\n",
       "      <th>age</th>\n",
       "      <th>workclass</th>\n",
       "      <th>fnlwgt</th>\n",
       "      <th>education</th>\n",
       "      <th>education-num</th>\n",
       "      <th>marital-status</th>\n",
       "      <th>occupation</th>\n",
       "      <th>relationship</th>\n",
       "      <th>race</th>\n",
       "      <th>sex</th>\n",
       "      <th>capital-gain</th>\n",
       "      <th>capital-loss</th>\n",
       "      <th>hours-per-week</th>\n",
       "      <th>native-country</th>\n",
       "      <th>income</th>\n",
       "    </tr>\n",
       "  </thead>\n",
       "  <tbody>\n",
       "    <tr>\n",
       "      <th>32556</th>\n",
       "      <td>27</td>\n",
       "      <td>Private</td>\n",
       "      <td>257302</td>\n",
       "      <td>Assoc-acdm</td>\n",
       "      <td>12</td>\n",
       "      <td>Married-civ-spouse</td>\n",
       "      <td>Tech-support</td>\n",
       "      <td>Wife</td>\n",
       "      <td>White</td>\n",
       "      <td>Female</td>\n",
       "      <td>0</td>\n",
       "      <td>0</td>\n",
       "      <td>38</td>\n",
       "      <td>United-States</td>\n",
       "      <td>&lt;=50K</td>\n",
       "    </tr>\n",
       "    <tr>\n",
       "      <th>32557</th>\n",
       "      <td>40</td>\n",
       "      <td>Private</td>\n",
       "      <td>154374</td>\n",
       "      <td>HS-grad</td>\n",
       "      <td>9</td>\n",
       "      <td>Married-civ-spouse</td>\n",
       "      <td>Machine-op-inspct</td>\n",
       "      <td>Husband</td>\n",
       "      <td>White</td>\n",
       "      <td>Male</td>\n",
       "      <td>0</td>\n",
       "      <td>0</td>\n",
       "      <td>40</td>\n",
       "      <td>United-States</td>\n",
       "      <td>&gt;50K</td>\n",
       "    </tr>\n",
       "    <tr>\n",
       "      <th>32558</th>\n",
       "      <td>58</td>\n",
       "      <td>Private</td>\n",
       "      <td>151910</td>\n",
       "      <td>HS-grad</td>\n",
       "      <td>9</td>\n",
       "      <td>Widowed</td>\n",
       "      <td>Adm-clerical</td>\n",
       "      <td>Unmarried</td>\n",
       "      <td>White</td>\n",
       "      <td>Female</td>\n",
       "      <td>0</td>\n",
       "      <td>0</td>\n",
       "      <td>40</td>\n",
       "      <td>United-States</td>\n",
       "      <td>&lt;=50K</td>\n",
       "    </tr>\n",
       "    <tr>\n",
       "      <th>32559</th>\n",
       "      <td>22</td>\n",
       "      <td>Private</td>\n",
       "      <td>201490</td>\n",
       "      <td>HS-grad</td>\n",
       "      <td>9</td>\n",
       "      <td>Never-married</td>\n",
       "      <td>Adm-clerical</td>\n",
       "      <td>Own-child</td>\n",
       "      <td>White</td>\n",
       "      <td>Male</td>\n",
       "      <td>0</td>\n",
       "      <td>0</td>\n",
       "      <td>20</td>\n",
       "      <td>United-States</td>\n",
       "      <td>&lt;=50K</td>\n",
       "    </tr>\n",
       "    <tr>\n",
       "      <th>32560</th>\n",
       "      <td>52</td>\n",
       "      <td>Self-emp-inc</td>\n",
       "      <td>287927</td>\n",
       "      <td>HS-grad</td>\n",
       "      <td>9</td>\n",
       "      <td>Married-civ-spouse</td>\n",
       "      <td>Exec-managerial</td>\n",
       "      <td>Wife</td>\n",
       "      <td>White</td>\n",
       "      <td>Female</td>\n",
       "      <td>15024</td>\n",
       "      <td>0</td>\n",
       "      <td>40</td>\n",
       "      <td>United-States</td>\n",
       "      <td>&gt;50K</td>\n",
       "    </tr>\n",
       "  </tbody>\n",
       "</table>\n",
       "</div>"
      ],
      "text/plain": [
       "       age      workclass   fnlwgt    education   education-num  \\\n",
       "32556   27        Private   257302   Assoc-acdm              12   \n",
       "32557   40        Private   154374      HS-grad               9   \n",
       "32558   58        Private   151910      HS-grad               9   \n",
       "32559   22        Private   201490      HS-grad               9   \n",
       "32560   52   Self-emp-inc   287927      HS-grad               9   \n",
       "\n",
       "            marital-status          occupation  relationship    race      sex  \\\n",
       "32556   Married-civ-spouse        Tech-support          Wife   White   Female   \n",
       "32557   Married-civ-spouse   Machine-op-inspct       Husband   White     Male   \n",
       "32558              Widowed        Adm-clerical     Unmarried   White   Female   \n",
       "32559        Never-married        Adm-clerical     Own-child   White     Male   \n",
       "32560   Married-civ-spouse     Exec-managerial          Wife   White   Female   \n",
       "\n",
       "        capital-gain   capital-loss   hours-per-week  native-country  income  \n",
       "32556              0              0               38   United-States   <=50K  \n",
       "32557              0              0               40   United-States    >50K  \n",
       "32558              0              0               40   United-States   <=50K  \n",
       "32559              0              0               20   United-States   <=50K  \n",
       "32560          15024              0               40   United-States    >50K  "
      ]
     },
     "execution_count": 194,
     "metadata": {},
     "output_type": "execute_result"
    }
   ],
   "source": [
    "df.tail()"
   ]
  },
  {
   "cell_type": "code",
   "execution_count": 195,
   "id": "a333b20b",
   "metadata": {},
   "outputs": [
    {
     "data": {
      "text/plain": [
       "Index(['age', 'workclass', 'fnlwgt', 'education', 'education-num',\n",
       "       'marital-status', 'occupation', 'relationship', 'race', 'sex',\n",
       "       'capital-gain', 'capital-loss', 'hours-per-week', 'native-country',\n",
       "       'income'],\n",
       "      dtype='object')"
      ]
     },
     "execution_count": 195,
     "metadata": {},
     "output_type": "execute_result"
    }
   ],
   "source": [
    "df.columns.map(lambda x: re.sub(' ','',x))"
   ]
  },
  {
   "cell_type": "code",
   "execution_count": 196,
   "id": "094fa3f4",
   "metadata": {},
   "outputs": [],
   "source": [
    "import re\n",
    "df.columns = df.columns.map(lambda x: re.sub(' ','',x))\n",
    "df.rename(columns = {'native-country': 'country'}, inplace = True)"
   ]
  },
  {
   "cell_type": "code",
   "execution_count": 197,
   "id": "71263ba9",
   "metadata": {},
   "outputs": [],
   "source": [
    "nom = ['workclass','education','marital-status','occupation','relationship','race','sex','country','income']"
   ]
  },
  {
   "cell_type": "code",
   "execution_count": 198,
   "id": "b2deae3f",
   "metadata": {},
   "outputs": [
    {
     "data": {
      "text/html": [
       "<div>\n",
       "<style scoped>\n",
       "    .dataframe tbody tr th:only-of-type {\n",
       "        vertical-align: middle;\n",
       "    }\n",
       "\n",
       "    .dataframe tbody tr th {\n",
       "        vertical-align: top;\n",
       "    }\n",
       "\n",
       "    .dataframe thead th {\n",
       "        text-align: right;\n",
       "    }\n",
       "</style>\n",
       "<table border=\"1\" class=\"dataframe\">\n",
       "  <thead>\n",
       "    <tr style=\"text-align: right;\">\n",
       "      <th></th>\n",
       "      <th>workclass</th>\n",
       "      <th>education</th>\n",
       "      <th>marital-status</th>\n",
       "      <th>occupation</th>\n",
       "      <th>relationship</th>\n",
       "      <th>race</th>\n",
       "      <th>sex</th>\n",
       "      <th>country</th>\n",
       "      <th>income</th>\n",
       "    </tr>\n",
       "  </thead>\n",
       "  <tbody>\n",
       "    <tr>\n",
       "      <th>0</th>\n",
       "      <td>State-gov</td>\n",
       "      <td>Bachelors</td>\n",
       "      <td>Never-married</td>\n",
       "      <td>Adm-clerical</td>\n",
       "      <td>Not-in-family</td>\n",
       "      <td>White</td>\n",
       "      <td>Male</td>\n",
       "      <td>United-States</td>\n",
       "      <td>&lt;=50K</td>\n",
       "    </tr>\n",
       "    <tr>\n",
       "      <th>1</th>\n",
       "      <td>Self-emp-not-inc</td>\n",
       "      <td>Bachelors</td>\n",
       "      <td>Married-civ-spouse</td>\n",
       "      <td>Exec-managerial</td>\n",
       "      <td>Husband</td>\n",
       "      <td>White</td>\n",
       "      <td>Male</td>\n",
       "      <td>United-States</td>\n",
       "      <td>&lt;=50K</td>\n",
       "    </tr>\n",
       "    <tr>\n",
       "      <th>2</th>\n",
       "      <td>Private</td>\n",
       "      <td>HS-grad</td>\n",
       "      <td>Divorced</td>\n",
       "      <td>Handlers-cleaners</td>\n",
       "      <td>Not-in-family</td>\n",
       "      <td>White</td>\n",
       "      <td>Male</td>\n",
       "      <td>United-States</td>\n",
       "      <td>&lt;=50K</td>\n",
       "    </tr>\n",
       "    <tr>\n",
       "      <th>3</th>\n",
       "      <td>Private</td>\n",
       "      <td>11th</td>\n",
       "      <td>Married-civ-spouse</td>\n",
       "      <td>Handlers-cleaners</td>\n",
       "      <td>Husband</td>\n",
       "      <td>Black</td>\n",
       "      <td>Male</td>\n",
       "      <td>United-States</td>\n",
       "      <td>&lt;=50K</td>\n",
       "    </tr>\n",
       "    <tr>\n",
       "      <th>4</th>\n",
       "      <td>Private</td>\n",
       "      <td>Bachelors</td>\n",
       "      <td>Married-civ-spouse</td>\n",
       "      <td>Prof-specialty</td>\n",
       "      <td>Wife</td>\n",
       "      <td>Black</td>\n",
       "      <td>Female</td>\n",
       "      <td>Cuba</td>\n",
       "      <td>&lt;=50K</td>\n",
       "    </tr>\n",
       "    <tr>\n",
       "      <th>...</th>\n",
       "      <td>...</td>\n",
       "      <td>...</td>\n",
       "      <td>...</td>\n",
       "      <td>...</td>\n",
       "      <td>...</td>\n",
       "      <td>...</td>\n",
       "      <td>...</td>\n",
       "      <td>...</td>\n",
       "      <td>...</td>\n",
       "    </tr>\n",
       "    <tr>\n",
       "      <th>32556</th>\n",
       "      <td>Private</td>\n",
       "      <td>Assoc-acdm</td>\n",
       "      <td>Married-civ-spouse</td>\n",
       "      <td>Tech-support</td>\n",
       "      <td>Wife</td>\n",
       "      <td>White</td>\n",
       "      <td>Female</td>\n",
       "      <td>United-States</td>\n",
       "      <td>&lt;=50K</td>\n",
       "    </tr>\n",
       "    <tr>\n",
       "      <th>32557</th>\n",
       "      <td>Private</td>\n",
       "      <td>HS-grad</td>\n",
       "      <td>Married-civ-spouse</td>\n",
       "      <td>Machine-op-inspct</td>\n",
       "      <td>Husband</td>\n",
       "      <td>White</td>\n",
       "      <td>Male</td>\n",
       "      <td>United-States</td>\n",
       "      <td>&gt;50K</td>\n",
       "    </tr>\n",
       "    <tr>\n",
       "      <th>32558</th>\n",
       "      <td>Private</td>\n",
       "      <td>HS-grad</td>\n",
       "      <td>Widowed</td>\n",
       "      <td>Adm-clerical</td>\n",
       "      <td>Unmarried</td>\n",
       "      <td>White</td>\n",
       "      <td>Female</td>\n",
       "      <td>United-States</td>\n",
       "      <td>&lt;=50K</td>\n",
       "    </tr>\n",
       "    <tr>\n",
       "      <th>32559</th>\n",
       "      <td>Private</td>\n",
       "      <td>HS-grad</td>\n",
       "      <td>Never-married</td>\n",
       "      <td>Adm-clerical</td>\n",
       "      <td>Own-child</td>\n",
       "      <td>White</td>\n",
       "      <td>Male</td>\n",
       "      <td>United-States</td>\n",
       "      <td>&lt;=50K</td>\n",
       "    </tr>\n",
       "    <tr>\n",
       "      <th>32560</th>\n",
       "      <td>Self-emp-inc</td>\n",
       "      <td>HS-grad</td>\n",
       "      <td>Married-civ-spouse</td>\n",
       "      <td>Exec-managerial</td>\n",
       "      <td>Wife</td>\n",
       "      <td>White</td>\n",
       "      <td>Female</td>\n",
       "      <td>United-States</td>\n",
       "      <td>&gt;50K</td>\n",
       "    </tr>\n",
       "  </tbody>\n",
       "</table>\n",
       "<p>32561 rows × 9 columns</p>\n",
       "</div>"
      ],
      "text/plain": [
       "               workclass    education       marital-status  \\\n",
       "0              State-gov    Bachelors        Never-married   \n",
       "1       Self-emp-not-inc    Bachelors   Married-civ-spouse   \n",
       "2                Private      HS-grad             Divorced   \n",
       "3                Private         11th   Married-civ-spouse   \n",
       "4                Private    Bachelors   Married-civ-spouse   \n",
       "...                  ...          ...                  ...   \n",
       "32556            Private   Assoc-acdm   Married-civ-spouse   \n",
       "32557            Private      HS-grad   Married-civ-spouse   \n",
       "32558            Private      HS-grad              Widowed   \n",
       "32559            Private      HS-grad        Never-married   \n",
       "32560       Self-emp-inc      HS-grad   Married-civ-spouse   \n",
       "\n",
       "               occupation    relationship    race      sex         country  \\\n",
       "0            Adm-clerical   Not-in-family   White     Male   United-States   \n",
       "1         Exec-managerial         Husband   White     Male   United-States   \n",
       "2       Handlers-cleaners   Not-in-family   White     Male   United-States   \n",
       "3       Handlers-cleaners         Husband   Black     Male   United-States   \n",
       "4          Prof-specialty            Wife   Black   Female            Cuba   \n",
       "...                   ...             ...     ...      ...             ...   \n",
       "32556        Tech-support            Wife   White   Female   United-States   \n",
       "32557   Machine-op-inspct         Husband   White     Male   United-States   \n",
       "32558        Adm-clerical       Unmarried   White   Female   United-States   \n",
       "32559        Adm-clerical       Own-child   White     Male   United-States   \n",
       "32560     Exec-managerial            Wife   White   Female   United-States   \n",
       "\n",
       "       income  \n",
       "0       <=50K  \n",
       "1       <=50K  \n",
       "2       <=50K  \n",
       "3       <=50K  \n",
       "4       <=50K  \n",
       "...       ...  \n",
       "32556   <=50K  \n",
       "32557    >50K  \n",
       "32558   <=50K  \n",
       "32559   <=50K  \n",
       "32560    >50K  \n",
       "\n",
       "[32561 rows x 9 columns]"
      ]
     },
     "execution_count": 198,
     "metadata": {},
     "output_type": "execute_result"
    }
   ],
   "source": [
    "df[nom]"
   ]
  },
  {
   "cell_type": "code",
   "execution_count": 199,
   "id": "28c51a92",
   "metadata": {},
   "outputs": [],
   "source": [
    "df[nom] = df[nom].applymap(lambda x: re.sub(' ','',x))"
   ]
  },
  {
   "cell_type": "markdown",
   "id": "9b86c3e3",
   "metadata": {},
   "source": [
    "Handling data"
   ]
  },
  {
   "cell_type": "code",
   "execution_count": 200,
   "id": "c786749b",
   "metadata": {},
   "outputs": [
    {
     "data": {
      "image/png": "[encoded data removed]",
      "text/plain": [
       "<Figure size 640x480 with 1 Axes>"
      ]
     },
     "metadata": {},
     "output_type": "display_data"
    }
   ],
   "source": [
    "df['country'].value_counts().plot(kind='bar') #mydat['age'].value_counts() counts the value and them plot it\n",
    "plt.title('Barplot of Country')\n",
    "plt.xlabel('country')\n",
    "plt.ylabel('frequency')\n",
    "plt.show()"
   ]
  },
  {
   "cell_type": "code",
   "execution_count": 201,
   "id": "11c2a15d",
   "metadata": {},
   "outputs": [
    {
     "data": {
      "text/plain": [
       "Index(['age', 'workclass', 'fnlwgt', 'education', 'education-num',\n",
       "       'marital-status', 'occupation', 'relationship', 'race', 'sex',\n",
       "       'capital-gain', 'capital-loss', 'hours-per-week', 'country', 'income'],\n",
       "      dtype='object')"
      ]
     },
     "execution_count": 201,
     "metadata": {},
     "output_type": "execute_result"
    }
   ],
   "source": [
    "df.columns"
   ]
  },
  {
   "cell_type": "code",
   "execution_count": 202,
   "id": "56a8c5e4",
   "metadata": {},
   "outputs": [],
   "source": [
    "#Making dataset only with values for which, country is United-States\n",
    "df = df[df['country'] == 'United-States']"
   ]
  },
  {
   "cell_type": "code",
   "execution_count": 203,
   "id": "bd1e5408",
   "metadata": {},
   "outputs": [
    {
     "data": {
      "text/html": [
       "<div>\n",
       "<style scoped>\n",
       "    .dataframe tbody tr th:only-of-type {\n",
       "        vertical-align: middle;\n",
       "    }\n",
       "\n",
       "    .dataframe tbody tr th {\n",
       "        vertical-align: top;\n",
       "    }\n",
       "\n",
       "    .dataframe thead th {\n",
       "        text-align: right;\n",
       "    }\n",
       "</style>\n",
       "<table border=\"1\" class=\"dataframe\">\n",
       "  <thead>\n",
       "    <tr style=\"text-align: right;\">\n",
       "      <th></th>\n",
       "      <th>age</th>\n",
       "      <th>workclass</th>\n",
       "      <th>fnlwgt</th>\n",
       "      <th>education</th>\n",
       "      <th>education-num</th>\n",
       "      <th>marital-status</th>\n",
       "      <th>occupation</th>\n",
       "      <th>relationship</th>\n",
       "      <th>race</th>\n",
       "      <th>sex</th>\n",
       "      <th>capital-gain</th>\n",
       "      <th>capital-loss</th>\n",
       "      <th>hours-per-week</th>\n",
       "      <th>country</th>\n",
       "      <th>income</th>\n",
       "    </tr>\n",
       "  </thead>\n",
       "  <tbody>\n",
       "    <tr>\n",
       "      <th>0</th>\n",
       "      <td>39</td>\n",
       "      <td>State-gov</td>\n",
       "      <td>77516</td>\n",
       "      <td>Bachelors</td>\n",
       "      <td>13</td>\n",
       "      <td>Never-married</td>\n",
       "      <td>Adm-clerical</td>\n",
       "      <td>Not-in-family</td>\n",
       "      <td>White</td>\n",
       "      <td>Male</td>\n",
       "      <td>2174</td>\n",
       "      <td>0</td>\n",
       "      <td>40</td>\n",
       "      <td>United-States</td>\n",
       "      <td>&lt;=50K</td>\n",
       "    </tr>\n",
       "    <tr>\n",
       "      <th>1</th>\n",
       "      <td>50</td>\n",
       "      <td>Self-emp-not-inc</td>\n",
       "      <td>83311</td>\n",
       "      <td>Bachelors</td>\n",
       "      <td>13</td>\n",
       "      <td>Married-civ-spouse</td>\n",
       "      <td>Exec-managerial</td>\n",
       "      <td>Husband</td>\n",
       "      <td>White</td>\n",
       "      <td>Male</td>\n",
       "      <td>0</td>\n",
       "      <td>0</td>\n",
       "      <td>13</td>\n",
       "      <td>United-States</td>\n",
       "      <td>&lt;=50K</td>\n",
       "    </tr>\n",
       "    <tr>\n",
       "      <th>2</th>\n",
       "      <td>38</td>\n",
       "      <td>Private</td>\n",
       "      <td>215646</td>\n",
       "      <td>HS-grad</td>\n",
       "      <td>9</td>\n",
       "      <td>Divorced</td>\n",
       "      <td>Handlers-cleaners</td>\n",
       "      <td>Not-in-family</td>\n",
       "      <td>White</td>\n",
       "      <td>Male</td>\n",
       "      <td>0</td>\n",
       "      <td>0</td>\n",
       "      <td>40</td>\n",
       "      <td>United-States</td>\n",
       "      <td>&lt;=50K</td>\n",
       "    </tr>\n",
       "    <tr>\n",
       "      <th>3</th>\n",
       "      <td>53</td>\n",
       "      <td>Private</td>\n",
       "      <td>234721</td>\n",
       "      <td>11th</td>\n",
       "      <td>7</td>\n",
       "      <td>Married-civ-spouse</td>\n",
       "      <td>Handlers-cleaners</td>\n",
       "      <td>Husband</td>\n",
       "      <td>Black</td>\n",
       "      <td>Male</td>\n",
       "      <td>0</td>\n",
       "      <td>0</td>\n",
       "      <td>40</td>\n",
       "      <td>United-States</td>\n",
       "      <td>&lt;=50K</td>\n",
       "    </tr>\n",
       "    <tr>\n",
       "      <th>5</th>\n",
       "      <td>37</td>\n",
       "      <td>Private</td>\n",
       "      <td>284582</td>\n",
       "      <td>Masters</td>\n",
       "      <td>14</td>\n",
       "      <td>Married-civ-spouse</td>\n",
       "      <td>Exec-managerial</td>\n",
       "      <td>Wife</td>\n",
       "      <td>White</td>\n",
       "      <td>Female</td>\n",
       "      <td>0</td>\n",
       "      <td>0</td>\n",
       "      <td>40</td>\n",
       "      <td>United-States</td>\n",
       "      <td>&lt;=50K</td>\n",
       "    </tr>\n",
       "    <tr>\n",
       "      <th>...</th>\n",
       "      <td>...</td>\n",
       "      <td>...</td>\n",
       "      <td>...</td>\n",
       "      <td>...</td>\n",
       "      <td>...</td>\n",
       "      <td>...</td>\n",
       "      <td>...</td>\n",
       "      <td>...</td>\n",
       "      <td>...</td>\n",
       "      <td>...</td>\n",
       "      <td>...</td>\n",
       "      <td>...</td>\n",
       "      <td>...</td>\n",
       "      <td>...</td>\n",
       "      <td>...</td>\n",
       "    </tr>\n",
       "    <tr>\n",
       "      <th>32556</th>\n",
       "      <td>27</td>\n",
       "      <td>Private</td>\n",
       "      <td>257302</td>\n",
       "      <td>Assoc-acdm</td>\n",
       "      <td>12</td>\n",
       "      <td>Married-civ-spouse</td>\n",
       "      <td>Tech-support</td>\n",
       "      <td>Wife</td>\n",
       "      <td>White</td>\n",
       "      <td>Female</td>\n",
       "      <td>0</td>\n",
       "      <td>0</td>\n",
       "      <td>38</td>\n",
       "      <td>United-States</td>\n",
       "      <td>&lt;=50K</td>\n",
       "    </tr>\n",
       "    <tr>\n",
       "      <th>32557</th>\n",
       "      <td>40</td>\n",
       "      <td>Private</td>\n",
       "      <td>154374</td>\n",
       "      <td>HS-grad</td>\n",
       "      <td>9</td>\n",
       "      <td>Married-civ-spouse</td>\n",
       "      <td>Machine-op-inspct</td>\n",
       "      <td>Husband</td>\n",
       "      <td>White</td>\n",
       "      <td>Male</td>\n",
       "      <td>0</td>\n",
       "      <td>0</td>\n",
       "      <td>40</td>\n",
       "      <td>United-States</td>\n",
       "      <td>&gt;50K</td>\n",
       "    </tr>\n",
       "    <tr>\n",
       "      <th>32558</th>\n",
       "      <td>58</td>\n",
       "      <td>Private</td>\n",
       "      <td>151910</td>\n",
       "      <td>HS-grad</td>\n",
       "      <td>9</td>\n",
       "      <td>Widowed</td>\n",
       "      <td>Adm-clerical</td>\n",
       "      <td>Unmarried</td>\n",
       "      <td>White</td>\n",
       "      <td>Female</td>\n",
       "      <td>0</td>\n",
       "      <td>0</td>\n",
       "      <td>40</td>\n",
       "      <td>United-States</td>\n",
       "      <td>&lt;=50K</td>\n",
       "    </tr>\n",
       "    <tr>\n",
       "      <th>32559</th>\n",
       "      <td>22</td>\n",
       "      <td>Private</td>\n",
       "      <td>201490</td>\n",
       "      <td>HS-grad</td>\n",
       "      <td>9</td>\n",
       "      <td>Never-married</td>\n",
       "      <td>Adm-clerical</td>\n",
       "      <td>Own-child</td>\n",
       "      <td>White</td>\n",
       "      <td>Male</td>\n",
       "      <td>0</td>\n",
       "      <td>0</td>\n",
       "      <td>20</td>\n",
       "      <td>United-States</td>\n",
       "      <td>&lt;=50K</td>\n",
       "    </tr>\n",
       "    <tr>\n",
       "      <th>32560</th>\n",
       "      <td>52</td>\n",
       "      <td>Self-emp-inc</td>\n",
       "      <td>287927</td>\n",
       "      <td>HS-grad</td>\n",
       "      <td>9</td>\n",
       "      <td>Married-civ-spouse</td>\n",
       "      <td>Exec-managerial</td>\n",
       "      <td>Wife</td>\n",
       "      <td>White</td>\n",
       "      <td>Female</td>\n",
       "      <td>15024</td>\n",
       "      <td>0</td>\n",
       "      <td>40</td>\n",
       "      <td>United-States</td>\n",
       "      <td>&gt;50K</td>\n",
       "    </tr>\n",
       "  </tbody>\n",
       "</table>\n",
       "<p>29170 rows × 15 columns</p>\n",
       "</div>"
      ],
      "text/plain": [
       "       age         workclass  fnlwgt   education  education-num  \\\n",
       "0       39         State-gov   77516   Bachelors             13   \n",
       "1       50  Self-emp-not-inc   83311   Bachelors             13   \n",
       "2       38           Private  215646     HS-grad              9   \n",
       "3       53           Private  234721        11th              7   \n",
       "5       37           Private  284582     Masters             14   \n",
       "...    ...               ...     ...         ...            ...   \n",
       "32556   27           Private  257302  Assoc-acdm             12   \n",
       "32557   40           Private  154374     HS-grad              9   \n",
       "32558   58           Private  151910     HS-grad              9   \n",
       "32559   22           Private  201490     HS-grad              9   \n",
       "32560   52      Self-emp-inc  287927     HS-grad              9   \n",
       "\n",
       "           marital-status         occupation   relationship   race     sex  \\\n",
       "0           Never-married       Adm-clerical  Not-in-family  White    Male   \n",
       "1      Married-civ-spouse    Exec-managerial        Husband  White    Male   \n",
       "2                Divorced  Handlers-cleaners  Not-in-family  White    Male   \n",
       "3      Married-civ-spouse  Handlers-cleaners        Husband  Black    Male   \n",
       "5      Married-civ-spouse    Exec-managerial           Wife  White  Female   \n",
       "...                   ...                ...            ...    ...     ...   \n",
       "32556  Married-civ-spouse       Tech-support           Wife  White  Female   \n",
       "32557  Married-civ-spouse  Machine-op-inspct        Husband  White    Male   \n",
       "32558             Widowed       Adm-clerical      Unmarried  White  Female   \n",
       "32559       Never-married       Adm-clerical      Own-child  White    Male   \n",
       "32560  Married-civ-spouse    Exec-managerial           Wife  White  Female   \n",
       "\n",
       "       capital-gain  capital-loss  hours-per-week        country income  \n",
       "0              2174             0              40  United-States  <=50K  \n",
       "1                 0             0              13  United-States  <=50K  \n",
       "2                 0             0              40  United-States  <=50K  \n",
       "3                 0             0              40  United-States  <=50K  \n",
       "5                 0             0              40  United-States  <=50K  \n",
       "...             ...           ...             ...            ...    ...  \n",
       "32556             0             0              38  United-States  <=50K  \n",
       "32557             0             0              40  United-States   >50K  \n",
       "32558             0             0              40  United-States  <=50K  \n",
       "32559             0             0              20  United-States  <=50K  \n",
       "32560         15024             0              40  United-States   >50K  \n",
       "\n",
       "[29170 rows x 15 columns]"
      ]
     },
     "execution_count": 203,
     "metadata": {},
     "output_type": "execute_result"
    }
   ],
   "source": [
    "df"
   ]
  },
  {
   "cell_type": "code",
   "execution_count": 204,
   "id": "eab1cb4d",
   "metadata": {},
   "outputs": [
    {
     "name": "stdout",
     "output_type": "stream",
     "text": [
      "<class 'pandas.core.frame.DataFrame'>\n",
      "Int64Index: 29170 entries, 0 to 32560\n",
      "Data columns (total 15 columns):\n",
      " #   Column          Non-Null Count  Dtype \n",
      "---  ------          --------------  ----- \n",
      " 0   age             29170 non-null  int64 \n",
      " 1   workclass       29170 non-null  object\n",
      " 2   fnlwgt          29170 non-null  int64 \n",
      " 3   education       29170 non-null  object\n",
      " 4   education-num   29170 non-null  int64 \n",
      " 5   marital-status  29170 non-null  object\n",
      " 6   occupation      29170 non-null  object\n",
      " 7   relationship    29170 non-null  object\n",
      " 8   race            29170 non-null  object\n",
      " 9   sex             29170 non-null  object\n",
      " 10  capital-gain    29170 non-null  int64 \n",
      " 11  capital-loss    29170 non-null  int64 \n",
      " 12  hours-per-week  29170 non-null  int64 \n",
      " 13  country         29170 non-null  object\n",
      " 14  income          29170 non-null  object\n",
      "dtypes: int64(6), object(9)\n",
      "memory usage: 3.6+ MB\n"
     ]
    }
   ],
   "source": [
    "df.info()"
   ]
  },
  {
   "cell_type": "code",
   "execution_count": 205,
   "id": "4be53bb3",
   "metadata": {},
   "outputs": [
    {
     "data": {
      "text/plain": [
       "0        <=50K\n",
       "1        <=50K\n",
       "2        <=50K\n",
       "3        <=50K\n",
       "5        <=50K\n",
       "         ...  \n",
       "32556    <=50K\n",
       "32557     >50K\n",
       "32558    <=50K\n",
       "32559    <=50K\n",
       "32560     >50K\n",
       "Name: income, Length: 29170, dtype: object"
      ]
     },
     "execution_count": 205,
     "metadata": {},
     "output_type": "execute_result"
    }
   ],
   "source": [
    "df['income']"
   ]
  },
  {
   "cell_type": "code",
   "execution_count": 206,
   "id": "5b999168",
   "metadata": {},
   "outputs": [
    {
     "data": {
      "text/plain": [
       "<=50K    21999\n",
       ">50K      7171\n",
       "Name: income, dtype: int64"
      ]
     },
     "execution_count": 206,
     "metadata": {},
     "output_type": "execute_result"
    }
   ],
   "source": [
    "df['income'].value_counts()"
   ]
  },
  {
   "cell_type": "code",
   "execution_count": 207,
   "id": "3fe63abc",
   "metadata": {},
   "outputs": [
    {
     "data": {
      "image/png": "[encoded data removed]",
      "text/plain": [
       "<Figure size 640x480 with 1 Axes>"
      ]
     },
     "metadata": {},
     "output_type": "display_data"
    }
   ],
   "source": [
    "plt.bar(['>50K', '<=50K'], df['income'].value_counts(ascending=True))\n",
    "plt.show()"
   ]
  },
  {
   "cell_type": "code",
   "execution_count": 208,
   "id": "df45b329",
   "metadata": {},
   "outputs": [
    {
     "name": "stdout",
     "output_type": "stream",
     "text": [
      "Ratio between >50K : <=50K = 1:3.0678\n"
     ]
    }
   ],
   "source": [
    "# Checking imbalance ratio\n",
    "ratio = len(df[df['income'] == '<=50K']) / len(df[df['income'] == '>50K'])\n",
    "print(f'Ratio between >50K : <=50K = 1:{ratio:.4f}')"
   ]
  },
  {
   "cell_type": "markdown",
   "id": "c9f0eb49",
   "metadata": {},
   "source": [
    "Checking a categorical feature using `value_counts()` method"
   ]
  },
  {
   "cell_type": "code",
   "execution_count": 210,
   "id": "09a4dd75",
   "metadata": {},
   "outputs": [],
   "source": [
    "# Save all the categorical columns and store in a list called cat_feat\n",
    "cat_feat = ['workclass', 'education', 'marital-status', 'occupation', 'relationship', 'race', 'sex']"
   ]
  },
  {
   "cell_type": "code",
   "execution_count": 211,
   "id": "a00bdc60",
   "metadata": {},
   "outputs": [
    {
     "name": "stdout",
     "output_type": "stream",
     "text": [
      "[INFO] Feature workclass\n",
      "Private             20135\n",
      "Self-emp-not-inc     2313\n",
      "Local-gov            1956\n",
      "?                    1659\n",
      "State-gov            1210\n",
      "Self-emp-inc          991\n",
      "Federal-gov           886\n",
      "Without-pay            13\n",
      "Never-worked            7\n",
      "Name: workclass, dtype: int64\n",
      "\n",
      "\n",
      "[INFO] Feature education\n",
      "HS-grad         9702\n",
      "Some-college    6740\n",
      "Bachelors       4766\n",
      "Masters         1527\n",
      "Assoc-voc       1289\n",
      "11th            1067\n",
      "Assoc-acdm       982\n",
      "10th             848\n",
      "Prof-school      502\n",
      "7th-8th          499\n",
      "9th              395\n",
      "12th             365\n",
      "Doctorate        328\n",
      "5th-6th           97\n",
      "1st-4th           46\n",
      "Preschool         17\n",
      "Name: education, dtype: int64\n",
      "\n",
      "\n",
      "[INFO] Feature marital-status\n",
      "Married-civ-spouse       13368\n",
      "Never-married             9579\n",
      "Divorced                  4162\n",
      "Widowed                    902\n",
      "Separated                  883\n",
      "Married-spouse-absent      253\n",
      "Married-AF-spouse           23\n",
      "Name: marital-status, dtype: int64\n",
      "\n",
      "\n",
      "[INFO] Feature occupation\n",
      "Exec-managerial      3735\n",
      "Prof-specialty       3693\n",
      "Craft-repair         3685\n",
      "Adm-clerical         3449\n",
      "Sales                3364\n",
      "Other-service        2777\n",
      "Machine-op-inspct    1687\n",
      "?                    1666\n",
      "Transport-moving     1491\n",
      "Handlers-cleaners    1189\n",
      "Farming-fishing       879\n",
      "Tech-support          850\n",
      "Protective-serv       606\n",
      "Priv-house-serv        90\n",
      "Armed-Forces            9\n",
      "Name: occupation, dtype: int64\n",
      "\n",
      "\n",
      "[INFO] Feature relationship\n",
      "Husband           11861\n",
      "Not-in-family      7528\n",
      "Own-child          4691\n",
      "Unmarried          3033\n",
      "Wife               1361\n",
      "Other-relative      696\n",
      "Name: relationship, dtype: int64\n",
      "\n",
      "\n",
      "[INFO] Feature race\n",
      "White                 25621\n",
      "Black                  2832\n",
      "Amer-Indian-Eskimo      296\n",
      "Asian-Pac-Islander      292\n",
      "Other                   129\n",
      "Name: race, dtype: int64\n",
      "\n",
      "\n",
      "[INFO] Feature sex\n",
      "Male      19488\n",
      "Female     9682\n",
      "Name: sex, dtype: int64\n",
      "\n",
      "\n"
     ]
    }
   ],
   "source": [
    "for cat in cat_feat:\n",
    "    print(f'[INFO] Feature {cat}')\n",
    "    print(df[cat].value_counts())\n",
    "    print('\\n')"
   ]
  },
  {
   "cell_type": "markdown",
   "id": "a5538f7d",
   "metadata": {},
   "source": [
    "EDA, analyzing data by drawing charts and tables, related to hypothesis"
   ]
  },
  {
   "cell_type": "code",
   "execution_count": 212,
   "id": "4eaddc88",
   "metadata": {},
   "outputs": [
    {
     "data": {
      "text/plain": [
       "sex     relationship    income\n",
       "Female  Husband         <=50K        1\n",
       "        Not-in-family   <=50K     3304\n",
       "                        >50K       268\n",
       "        Other-relative  <=50K      307\n",
       "                        >50K        10\n",
       "        Own-child       <=50K     2056\n",
       "                        >50K        23\n",
       "        Unmarried       <=50K     2252\n",
       "                        >50K       101\n",
       "        Wife            <=50K      690\n",
       "                        >50K       670\n",
       "Male    Husband         <=50K     6435\n",
       "                        >50K      5425\n",
       "        Not-in-family   <=50K     3431\n",
       "                        >50K       525\n",
       "        Other-relative  <=50K      362\n",
       "                        >50K        17\n",
       "        Own-child       <=50K     2576\n",
       "                        >50K        36\n",
       "        Unmarried       <=50K      585\n",
       "                        >50K        95\n",
       "        Wife            >50K         1\n",
       "Name: income, dtype: int64"
      ]
     },
     "execution_count": 212,
     "metadata": {},
     "output_type": "execute_result"
    }
   ],
   "source": [
    "df.groupby(['sex', 'relationship'])['income'].value_counts()\n",
    "\n",
    "#it shows one inconsistent data"
   ]
  },
  {
   "cell_type": "code",
   "execution_count": 213,
   "id": "e1c71e0c",
   "metadata": {},
   "outputs": [
    {
     "data": {
      "image/png": "[encoded data removed]",
      "text/plain": [
       "<Figure size 1500x600 with 1 Axes>"
      ]
     },
     "metadata": {},
     "output_type": "display_data"
    }
   ],
   "source": [
    "pd.crosstab(df['sex'], df['income']=='>50K').plot(kind='bar', figsize=(15, 6))\n",
    "plt.title('Income')\n",
    "plt.xlabel('Sex (0 = Female, 1 = Male)')\n",
    "plt.legend(['<=50K', '>50K'])\n",
    "plt.show()\n",
    "\n"
   ]
  },
  {
   "cell_type": "code",
   "execution_count": 214,
   "id": "b0a0e036",
   "metadata": {},
   "outputs": [],
   "source": [
    "#Creating dataset with income >50K\n",
    "df1=df[df['income']=='>50K']"
   ]
  },
  {
   "cell_type": "code",
   "execution_count": 215,
   "id": "b457b6ec",
   "metadata": {},
   "outputs": [
    {
     "data": {
      "image/png": "[encoded data removed]",
      "text/plain": [
       "<Figure size 640x480 with 1 Axes>"
      ]
     },
     "metadata": {},
     "output_type": "display_data"
    }
   ],
   "source": [
    "sns.countplot(data=df1[df1['sex']=='Female'],x=\"relationship\")\n",
    "plt.title('Barplot of Relationship', fontsize=18) #we can specify the title\n",
    "plt.xlabel('relationship status', fontsize=16)  #we can name x-axis\n",
    "plt.ylabel('frequency', fontsize=16) #we can name y-axis\n",
    "plt.show()"
   ]
  },
  {
   "cell_type": "code",
   "execution_count": 216,
   "id": "a098ed30",
   "metadata": {},
   "outputs": [
    {
     "data": {
      "image/png": "[encoded data removed]",
      "text/plain": [
       "<Figure size 640x480 with 1 Axes>"
      ]
     },
     "metadata": {},
     "output_type": "display_data"
    }
   ],
   "source": [
    "sns.countplot(data=df1[df1['sex']=='Male'],x=\"relationship\")\n",
    "plt.title('Barplot of Relationship', fontsize=18) #we can specify the title\n",
    "plt.xlabel('relationship status', fontsize=16)  #we can name x-axis\n",
    "plt.ylabel('frequency', fontsize=16) #we can name y-axis\n",
    "plt.show()"
   ]
  },
  {
   "cell_type": "code",
   "execution_count": 217,
   "id": "559d6f8d",
   "metadata": {},
   "outputs": [
    {
     "data": {
      "image/png": "[encoded data removed]",
      "text/plain": [
       "<Figure size 1500x600 with 1 Axes>"
      ]
     },
     "metadata": {},
     "output_type": "display_data"
    }
   ],
   "source": [
    "pd.crosstab(df['relationship'], df['income']).plot(kind='bar', figsize=(15, 6))\n",
    "plt.title('Ratio between relationship status and income')\n",
    "plt.xlabel('Relationship status')\n",
    "plt.legend(['<=50K', '>50K'])\n",
    "plt.show()"
   ]
  },
  {
   "cell_type": "markdown",
   "id": "409dd2dc",
   "metadata": {},
   "source": [
    "## Data preprocessing"
   ]
  },
  {
   "cell_type": "code",
   "execution_count": 218,
   "id": "ed0044b0",
   "metadata": {},
   "outputs": [
    {
     "data": {
      "image/png": "[encoded data removed]",
      "text/plain": [
       "<Figure size 2000x1500 with 6 Axes>"
      ]
     },
     "metadata": {},
     "output_type": "display_data"
    }
   ],
   "source": [
    "df[df['income'] == '>50K'].hist(bins=100, figsize=(20, 15))\n",
    "plt.show()"
   ]
  },
  {
   "cell_type": "code",
   "execution_count": 219,
   "id": "5b59ec8b",
   "metadata": {},
   "outputs": [
    {
     "data": {
      "text/plain": [
       "<AxesSubplot:>"
      ]
     },
     "execution_count": 219,
     "metadata": {},
     "output_type": "execute_result"
    },
    {
     "data": {
      "image/png": "[encoded data removed]",
      "text/plain": [
       "<Figure size 640x480 with 1 Axes>"
      ]
     },
     "metadata": {},
     "output_type": "display_data"
    }
   ],
   "source": [
    "df[df['income'] == '<=50K']['age'].hist()\n",
    "df[df['income'] == '>50K']['age'].hist()"
   ]
  },
  {
   "cell_type": "code",
   "execution_count": 220,
   "id": "347a4a6a",
   "metadata": {},
   "outputs": [
    {
     "data": {
      "image/png": "[encoded data removed]",
      "text/plain": [
       "<Figure size 2000x1500 with 6 Axes>"
      ]
     },
     "metadata": {},
     "output_type": "display_data"
    }
   ],
   "source": [
    "df[df['income'] == '<=50K'].hist(bins=100, figsize=(20, 15))\n",
    "plt.show()"
   ]
  },
  {
   "cell_type": "markdown",
   "id": "6e11221a",
   "metadata": {},
   "source": [
    "Studying the domain, I came to conlusion that capital gain and capital loss have to be included in annual come, so we do not drop these values."
   ]
  },
  {
   "cell_type": "markdown",
   "id": "848617a8",
   "metadata": {},
   "source": [
    "Capital gain and capital loss mean the same, but with different sign, so we substract them and assing it to capital gain variable to reduce the dimensions and avoid multicollinearity problem"
   ]
  },
  {
   "cell_type": "code",
   "execution_count": 221,
   "id": "ab361d97",
   "metadata": {},
   "outputs": [],
   "source": [
    "df['capital-gain']=df['capital-gain']-df['capital-loss']"
   ]
  },
  {
   "cell_type": "code",
   "execution_count": 222,
   "id": "1d3ca682",
   "metadata": {},
   "outputs": [
    {
     "data": {
      "text/plain": [
       " 0        25320\n",
       " 15024      320\n",
       " 7688       261\n",
       " 7298       228\n",
       "-1902       183\n",
       "          ...  \n",
       " 1639         1\n",
       " 41310        1\n",
       " 4931         1\n",
       " 7978         1\n",
       "-1844         1\n",
       "Name: capital-gain, Length: 207, dtype: int64"
      ]
     },
     "execution_count": 222,
     "metadata": {},
     "output_type": "execute_result"
    }
   ],
   "source": [
    "df['capital-gain'].value_counts()"
   ]
  },
  {
   "cell_type": "code",
   "execution_count": 223,
   "id": "63237364",
   "metadata": {},
   "outputs": [
    {
     "name": "stdout",
     "output_type": "stream",
     "text": [
      "<class 'pandas.core.frame.DataFrame'>\n",
      "Int64Index: 29170 entries, 0 to 32560\n",
      "Data columns (total 15 columns):\n",
      " #   Column          Non-Null Count  Dtype \n",
      "---  ------          --------------  ----- \n",
      " 0   age             29170 non-null  int64 \n",
      " 1   workclass       29170 non-null  object\n",
      " 2   fnlwgt          29170 non-null  int64 \n",
      " 3   education       29170 non-null  object\n",
      " 4   education-num   29170 non-null  int64 \n",
      " 5   marital-status  29170 non-null  object\n",
      " 6   occupation      29170 non-null  object\n",
      " 7   relationship    29170 non-null  object\n",
      " 8   race            29170 non-null  object\n",
      " 9   sex             29170 non-null  object\n",
      " 10  capital-gain    29170 non-null  int64 \n",
      " 11  capital-loss    29170 non-null  int64 \n",
      " 12  hours-per-week  29170 non-null  int64 \n",
      " 13  country         29170 non-null  object\n",
      " 14  income          29170 non-null  object\n",
      "dtypes: int64(6), object(9)\n",
      "memory usage: 3.6+ MB\n"
     ]
    }
   ],
   "source": [
    "df.info()"
   ]
  },
  {
   "cell_type": "code",
   "execution_count": 224,
   "id": "6da21521",
   "metadata": {},
   "outputs": [],
   "source": [
    "df = df.drop(['capital-loss'], axis=1)"
   ]
  },
  {
   "cell_type": "code",
   "execution_count": 225,
   "id": "7fc9c635",
   "metadata": {},
   "outputs": [
    {
     "name": "stdout",
     "output_type": "stream",
     "text": [
      "<class 'pandas.core.frame.DataFrame'>\n",
      "Int64Index: 29170 entries, 0 to 32560\n",
      "Data columns (total 14 columns):\n",
      " #   Column          Non-Null Count  Dtype \n",
      "---  ------          --------------  ----- \n",
      " 0   age             29170 non-null  int64 \n",
      " 1   workclass       29170 non-null  object\n",
      " 2   fnlwgt          29170 non-null  int64 \n",
      " 3   education       29170 non-null  object\n",
      " 4   education-num   29170 non-null  int64 \n",
      " 5   marital-status  29170 non-null  object\n",
      " 6   occupation      29170 non-null  object\n",
      " 7   relationship    29170 non-null  object\n",
      " 8   race            29170 non-null  object\n",
      " 9   sex             29170 non-null  object\n",
      " 10  capital-gain    29170 non-null  int64 \n",
      " 11  hours-per-week  29170 non-null  int64 \n",
      " 12  country         29170 non-null  object\n",
      " 13  income          29170 non-null  object\n",
      "dtypes: int64(5), object(9)\n",
      "memory usage: 3.3+ MB\n"
     ]
    }
   ],
   "source": [
    "df.info() #checking if the above column was dropped"
   ]
  },
  {
   "cell_type": "code",
   "execution_count": 226,
   "id": "3eccea25",
   "metadata": {},
   "outputs": [],
   "source": [
    "# As for all rows country is United States, we just drop this column\n",
    "df = df.drop(['country'], axis=1)"
   ]
  },
  {
   "cell_type": "markdown",
   "id": "557085ff",
   "metadata": {},
   "source": [
    "Also, one of the variables either education num or education should be removed to have less dimensions and avoid multicollinearity."
   ]
  },
  {
   "cell_type": "code",
   "execution_count": 227,
   "id": "2a976a24",
   "metadata": {},
   "outputs": [
    {
     "data": {
      "text/plain": [
       "9               9702\n",
       "10              6740\n",
       "13              4766\n",
       "14              1527\n",
       "11              1289\n",
       "7               1067\n",
       "12               982\n",
       "6                848\n",
       "15               502\n",
       "4                499\n",
       "5                395\n",
       "8                365\n",
       "16               328\n",
       "3                 97\n",
       "2                 46\n",
       "1                 17\n",
       "HS-grad         9702\n",
       "Some-college    6740\n",
       "Bachelors       4766\n",
       "Masters         1527\n",
       "Assoc-voc       1289\n",
       "11th            1067\n",
       "Assoc-acdm       982\n",
       "10th             848\n",
       "Prof-school      502\n",
       "7th-8th          499\n",
       "9th              395\n",
       "12th             365\n",
       "Doctorate        328\n",
       "5th-6th           97\n",
       "1st-4th           46\n",
       "Preschool         17\n",
       "dtype: int64"
      ]
     },
     "execution_count": 227,
     "metadata": {},
     "output_type": "execute_result"
    }
   ],
   "source": [
    "pd.concat([df['education-num'].value_counts() , df['education'].value_counts()], axis=0)"
   ]
  },
  {
   "cell_type": "code",
   "execution_count": 228,
   "id": "30ec9bd1",
   "metadata": {},
   "outputs": [],
   "source": [
    "df = df.drop(['education'], axis=1)"
   ]
  },
  {
   "cell_type": "code",
   "execution_count": 229,
   "id": "4489592e",
   "metadata": {},
   "outputs": [
    {
     "name": "stdout",
     "output_type": "stream",
     "text": [
      "<class 'pandas.core.frame.DataFrame'>\n",
      "Int64Index: 29170 entries, 0 to 32560\n",
      "Data columns (total 12 columns):\n",
      " #   Column          Non-Null Count  Dtype \n",
      "---  ------          --------------  ----- \n",
      " 0   age             29170 non-null  int64 \n",
      " 1   workclass       29170 non-null  object\n",
      " 2   fnlwgt          29170 non-null  int64 \n",
      " 3   education-num   29170 non-null  int64 \n",
      " 4   marital-status  29170 non-null  object\n",
      " 5   occupation      29170 non-null  object\n",
      " 6   relationship    29170 non-null  object\n",
      " 7   race            29170 non-null  object\n",
      " 8   sex             29170 non-null  object\n",
      " 9   capital-gain    29170 non-null  int64 \n",
      " 10  hours-per-week  29170 non-null  int64 \n",
      " 11  income          29170 non-null  object\n",
      "dtypes: int64(5), object(7)\n",
      "memory usage: 2.9+ MB\n"
     ]
    }
   ],
   "source": [
    "df.info()"
   ]
  },
  {
   "cell_type": "markdown",
   "id": "bcae67e3",
   "metadata": {},
   "source": [
    "## Removing irrelevant rows"
   ]
  },
  {
   "cell_type": "code",
   "execution_count": 230,
   "id": "f70bfb20",
   "metadata": {},
   "outputs": [
    {
     "name": "stderr",
     "output_type": "stream",
     "text": [
      "/var/folders/19/knq7dlss0pl6xn7b65qh4qnw0000gn/T/ipykernel_30042/876109157.py:1: UserWarning: Boolean Series key will be reindexed to match DataFrame index.\n",
      "  df[df['sex']=='Male'][df['relationship']=='Wife']\n"
     ]
    },
    {
     "data": {
      "text/html": [
       "<div>\n",
       "<style scoped>\n",
       "    .dataframe tbody tr th:only-of-type {\n",
       "        vertical-align: middle;\n",
       "    }\n",
       "\n",
       "    .dataframe tbody tr th {\n",
       "        vertical-align: top;\n",
       "    }\n",
       "\n",
       "    .dataframe thead th {\n",
       "        text-align: right;\n",
       "    }\n",
       "</style>\n",
       "<table border=\"1\" class=\"dataframe\">\n",
       "  <thead>\n",
       "    <tr style=\"text-align: right;\">\n",
       "      <th></th>\n",
       "      <th>age</th>\n",
       "      <th>workclass</th>\n",
       "      <th>fnlwgt</th>\n",
       "      <th>education-num</th>\n",
       "      <th>marital-status</th>\n",
       "      <th>occupation</th>\n",
       "      <th>relationship</th>\n",
       "      <th>race</th>\n",
       "      <th>sex</th>\n",
       "      <th>capital-gain</th>\n",
       "      <th>hours-per-week</th>\n",
       "      <th>income</th>\n",
       "    </tr>\n",
       "  </thead>\n",
       "  <tbody>\n",
       "    <tr>\n",
       "      <th>575</th>\n",
       "      <td>29</td>\n",
       "      <td>Private</td>\n",
       "      <td>350162</td>\n",
       "      <td>13</td>\n",
       "      <td>Married-civ-spouse</td>\n",
       "      <td>Exec-managerial</td>\n",
       "      <td>Wife</td>\n",
       "      <td>White</td>\n",
       "      <td>Male</td>\n",
       "      <td>0</td>\n",
       "      <td>40</td>\n",
       "      <td>&gt;50K</td>\n",
       "    </tr>\n",
       "  </tbody>\n",
       "</table>\n",
       "</div>"
      ],
      "text/plain": [
       "     age workclass  fnlwgt  education-num      marital-status  \\\n",
       "575   29   Private  350162             13  Married-civ-spouse   \n",
       "\n",
       "          occupation relationship   race   sex  capital-gain  hours-per-week  \\\n",
       "575  Exec-managerial         Wife  White  Male             0              40   \n",
       "\n",
       "    income  \n",
       "575   >50K  "
      ]
     },
     "execution_count": 230,
     "metadata": {},
     "output_type": "execute_result"
    }
   ],
   "source": [
    "df[df['sex']=='Male'][df['relationship']=='Wife']"
   ]
  },
  {
   "cell_type": "code",
   "execution_count": 231,
   "id": "19ab61d8",
   "metadata": {},
   "outputs": [],
   "source": [
    "df=df.drop(575)"
   ]
  },
  {
   "cell_type": "code",
   "execution_count": 232,
   "id": "bde149f1",
   "metadata": {},
   "outputs": [
    {
     "name": "stdout",
     "output_type": "stream",
     "text": [
      "<class 'pandas.core.frame.DataFrame'>\n",
      "Int64Index: 29169 entries, 0 to 32560\n",
      "Data columns (total 12 columns):\n",
      " #   Column          Non-Null Count  Dtype \n",
      "---  ------          --------------  ----- \n",
      " 0   age             29169 non-null  int64 \n",
      " 1   workclass       29169 non-null  object\n",
      " 2   fnlwgt          29169 non-null  int64 \n",
      " 3   education-num   29169 non-null  int64 \n",
      " 4   marital-status  29169 non-null  object\n",
      " 5   occupation      29169 non-null  object\n",
      " 6   relationship    29169 non-null  object\n",
      " 7   race            29169 non-null  object\n",
      " 8   sex             29169 non-null  object\n",
      " 9   capital-gain    29169 non-null  int64 \n",
      " 10  hours-per-week  29169 non-null  int64 \n",
      " 11  income          29169 non-null  object\n",
      "dtypes: int64(5), object(7)\n",
      "memory usage: 2.9+ MB\n"
     ]
    }
   ],
   "source": [
    "df.info()"
   ]
  },
  {
   "cell_type": "markdown",
   "id": "0928430c",
   "metadata": {},
   "source": [
    "## Missing data"
   ]
  },
  {
   "cell_type": "code",
   "execution_count": 233,
   "id": "50e210d4",
   "metadata": {},
   "outputs": [
    {
     "data": {
      "text/html": [
       "<div>\n",
       "<style scoped>\n",
       "    .dataframe tbody tr th:only-of-type {\n",
       "        vertical-align: middle;\n",
       "    }\n",
       "\n",
       "    .dataframe tbody tr th {\n",
       "        vertical-align: top;\n",
       "    }\n",
       "\n",
       "    .dataframe thead th {\n",
       "        text-align: right;\n",
       "    }\n",
       "</style>\n",
       "<table border=\"1\" class=\"dataframe\">\n",
       "  <thead>\n",
       "    <tr style=\"text-align: right;\">\n",
       "      <th></th>\n",
       "      <th>Number of missing values</th>\n",
       "      <th>%</th>\n",
       "    </tr>\n",
       "  </thead>\n",
       "  <tbody>\n",
       "    <tr>\n",
       "      <th>age</th>\n",
       "      <td>0</td>\n",
       "      <td>0.0</td>\n",
       "    </tr>\n",
       "    <tr>\n",
       "      <th>workclass</th>\n",
       "      <td>0</td>\n",
       "      <td>0.0</td>\n",
       "    </tr>\n",
       "    <tr>\n",
       "      <th>fnlwgt</th>\n",
       "      <td>0</td>\n",
       "      <td>0.0</td>\n",
       "    </tr>\n",
       "    <tr>\n",
       "      <th>education-num</th>\n",
       "      <td>0</td>\n",
       "      <td>0.0</td>\n",
       "    </tr>\n",
       "    <tr>\n",
       "      <th>marital-status</th>\n",
       "      <td>0</td>\n",
       "      <td>0.0</td>\n",
       "    </tr>\n",
       "    <tr>\n",
       "      <th>occupation</th>\n",
       "      <td>0</td>\n",
       "      <td>0.0</td>\n",
       "    </tr>\n",
       "    <tr>\n",
       "      <th>relationship</th>\n",
       "      <td>0</td>\n",
       "      <td>0.0</td>\n",
       "    </tr>\n",
       "    <tr>\n",
       "      <th>race</th>\n",
       "      <td>0</td>\n",
       "      <td>0.0</td>\n",
       "    </tr>\n",
       "    <tr>\n",
       "      <th>sex</th>\n",
       "      <td>0</td>\n",
       "      <td>0.0</td>\n",
       "    </tr>\n",
       "    <tr>\n",
       "      <th>capital-gain</th>\n",
       "      <td>0</td>\n",
       "      <td>0.0</td>\n",
       "    </tr>\n",
       "    <tr>\n",
       "      <th>hours-per-week</th>\n",
       "      <td>0</td>\n",
       "      <td>0.0</td>\n",
       "    </tr>\n",
       "  </tbody>\n",
       "</table>\n",
       "</div>"
      ],
      "text/plain": [
       "                Number of missing values    %\n",
       "age                                    0  0.0\n",
       "workclass                              0  0.0\n",
       "fnlwgt                                 0  0.0\n",
       "education-num                          0  0.0\n",
       "marital-status                         0  0.0\n",
       "occupation                             0  0.0\n",
       "relationship                           0  0.0\n",
       "race                                   0  0.0\n",
       "sex                                    0  0.0\n",
       "capital-gain                           0  0.0\n",
       "hours-per-week                         0  0.0"
      ]
     },
     "execution_count": 233,
     "metadata": {},
     "output_type": "execute_result"
    }
   ],
   "source": [
    "total = df.isnull().sum().sort_values(ascending=False)\n",
    "percent_1 = df.isnull().sum()/df.isnull().count()*100\n",
    "percent = (round(percent_1, 1)).sort_values(ascending=False)\n",
    "missing_data = pd.concat([total, percent], axis=1, keys=['Number of missing values', '%'])\n",
    "missing_data.head(11)"
   ]
  },
  {
   "cell_type": "code",
   "execution_count": 234,
   "id": "b1835fab",
   "metadata": {},
   "outputs": [],
   "source": [
    "df=df.replace('?', np.nan)"
   ]
  },
  {
   "cell_type": "markdown",
   "id": "9cd83c32",
   "metadata": {},
   "source": [
    "Numeric variables"
   ]
  },
  {
   "cell_type": "code",
   "execution_count": 235,
   "id": "a37a27d6",
   "metadata": {},
   "outputs": [],
   "source": [
    "df.loc[df[\"age\"].isnull(), \"age\"]=round(df[\"age\"].mean(),0)"
   ]
  },
  {
   "cell_type": "code",
   "execution_count": 236,
   "id": "26878de7",
   "metadata": {},
   "outputs": [],
   "source": [
    "df.loc[df[\"hours-per-week\"].isnull(), \"hours-per-week\"]=round(df[\"hours-per-week\"].mean(),0)"
   ]
  },
  {
   "cell_type": "code",
   "execution_count": 237,
   "id": "314f6318",
   "metadata": {},
   "outputs": [],
   "source": [
    "df.loc[df[\"capital-gain\"].isnull(), \"capital-gain\"]=round(df[\"capital-gain\"].mean(),0)"
   ]
  },
  {
   "cell_type": "code",
   "execution_count": 238,
   "id": "7325bce4",
   "metadata": {},
   "outputs": [],
   "source": [
    "df.loc[df[\"fnlwgt\"].isnull(), \"fnlwgt\"]=round(df[\"fnlwgt\"].mean(),0)"
   ]
  },
  {
   "cell_type": "code",
   "execution_count": 239,
   "id": "934b4693",
   "metadata": {},
   "outputs": [],
   "source": [
    "df.loc[df[\"education-num\"].isnull(), \"education-num\"]=round(df[\"education-num\"].mean(),0)"
   ]
  },
  {
   "cell_type": "markdown",
   "id": "76f05ad1",
   "metadata": {},
   "source": [
    "Categorical variables"
   ]
  },
  {
   "cell_type": "code",
   "execution_count": 240,
   "id": "1f912939",
   "metadata": {},
   "outputs": [],
   "source": [
    "cat_feat = ['workclass','marital-status', 'occupation', 'relationship', 'race', 'sex']"
   ]
  },
  {
   "cell_type": "code",
   "execution_count": 241,
   "id": "2aa2c2fc",
   "metadata": {},
   "outputs": [],
   "source": [
    "def miss_value(dataframe,colname):\n",
    "     mode=dataframe[colname].mode()[0]\n",
    "     dataframe[colname].fillna(mode,inplace=True)\n"
   ]
  },
  {
   "cell_type": "code",
   "execution_count": 242,
   "id": "ca714e4e",
   "metadata": {},
   "outputs": [],
   "source": [
    "for columns in cat_feat:\n",
    "    miss_value(df,columns)"
   ]
  },
  {
   "cell_type": "code",
   "execution_count": 243,
   "id": "5cbf538f",
   "metadata": {},
   "outputs": [
    {
     "data": {
      "text/html": [
       "<div>\n",
       "<style scoped>\n",
       "    .dataframe tbody tr th:only-of-type {\n",
       "        vertical-align: middle;\n",
       "    }\n",
       "\n",
       "    .dataframe tbody tr th {\n",
       "        vertical-align: top;\n",
       "    }\n",
       "\n",
       "    .dataframe thead th {\n",
       "        text-align: right;\n",
       "    }\n",
       "</style>\n",
       "<table border=\"1\" class=\"dataframe\">\n",
       "  <thead>\n",
       "    <tr style=\"text-align: right;\">\n",
       "      <th></th>\n",
       "      <th>age</th>\n",
       "      <th>workclass</th>\n",
       "      <th>fnlwgt</th>\n",
       "      <th>education-num</th>\n",
       "      <th>marital-status</th>\n",
       "      <th>occupation</th>\n",
       "      <th>relationship</th>\n",
       "      <th>race</th>\n",
       "      <th>sex</th>\n",
       "      <th>capital-gain</th>\n",
       "      <th>hours-per-week</th>\n",
       "      <th>income</th>\n",
       "    </tr>\n",
       "  </thead>\n",
       "  <tbody>\n",
       "    <tr>\n",
       "      <th>0</th>\n",
       "      <td>39</td>\n",
       "      <td>State-gov</td>\n",
       "      <td>77516</td>\n",
       "      <td>13</td>\n",
       "      <td>Never-married</td>\n",
       "      <td>Adm-clerical</td>\n",
       "      <td>Not-in-family</td>\n",
       "      <td>White</td>\n",
       "      <td>Male</td>\n",
       "      <td>2174</td>\n",
       "      <td>40</td>\n",
       "      <td>&lt;=50K</td>\n",
       "    </tr>\n",
       "    <tr>\n",
       "      <th>1</th>\n",
       "      <td>50</td>\n",
       "      <td>Self-emp-not-inc</td>\n",
       "      <td>83311</td>\n",
       "      <td>13</td>\n",
       "      <td>Married-civ-spouse</td>\n",
       "      <td>Exec-managerial</td>\n",
       "      <td>Husband</td>\n",
       "      <td>White</td>\n",
       "      <td>Male</td>\n",
       "      <td>0</td>\n",
       "      <td>13</td>\n",
       "      <td>&lt;=50K</td>\n",
       "    </tr>\n",
       "    <tr>\n",
       "      <th>2</th>\n",
       "      <td>38</td>\n",
       "      <td>Private</td>\n",
       "      <td>215646</td>\n",
       "      <td>9</td>\n",
       "      <td>Divorced</td>\n",
       "      <td>Handlers-cleaners</td>\n",
       "      <td>Not-in-family</td>\n",
       "      <td>White</td>\n",
       "      <td>Male</td>\n",
       "      <td>0</td>\n",
       "      <td>40</td>\n",
       "      <td>&lt;=50K</td>\n",
       "    </tr>\n",
       "    <tr>\n",
       "      <th>3</th>\n",
       "      <td>53</td>\n",
       "      <td>Private</td>\n",
       "      <td>234721</td>\n",
       "      <td>7</td>\n",
       "      <td>Married-civ-spouse</td>\n",
       "      <td>Handlers-cleaners</td>\n",
       "      <td>Husband</td>\n",
       "      <td>Black</td>\n",
       "      <td>Male</td>\n",
       "      <td>0</td>\n",
       "      <td>40</td>\n",
       "      <td>&lt;=50K</td>\n",
       "    </tr>\n",
       "    <tr>\n",
       "      <th>5</th>\n",
       "      <td>37</td>\n",
       "      <td>Private</td>\n",
       "      <td>284582</td>\n",
       "      <td>14</td>\n",
       "      <td>Married-civ-spouse</td>\n",
       "      <td>Exec-managerial</td>\n",
       "      <td>Wife</td>\n",
       "      <td>White</td>\n",
       "      <td>Female</td>\n",
       "      <td>0</td>\n",
       "      <td>40</td>\n",
       "      <td>&lt;=50K</td>\n",
       "    </tr>\n",
       "    <tr>\n",
       "      <th>...</th>\n",
       "      <td>...</td>\n",
       "      <td>...</td>\n",
       "      <td>...</td>\n",
       "      <td>...</td>\n",
       "      <td>...</td>\n",
       "      <td>...</td>\n",
       "      <td>...</td>\n",
       "      <td>...</td>\n",
       "      <td>...</td>\n",
       "      <td>...</td>\n",
       "      <td>...</td>\n",
       "      <td>...</td>\n",
       "    </tr>\n",
       "    <tr>\n",
       "      <th>32556</th>\n",
       "      <td>27</td>\n",
       "      <td>Private</td>\n",
       "      <td>257302</td>\n",
       "      <td>12</td>\n",
       "      <td>Married-civ-spouse</td>\n",
       "      <td>Tech-support</td>\n",
       "      <td>Wife</td>\n",
       "      <td>White</td>\n",
       "      <td>Female</td>\n",
       "      <td>0</td>\n",
       "      <td>38</td>\n",
       "      <td>&lt;=50K</td>\n",
       "    </tr>\n",
       "    <tr>\n",
       "      <th>32557</th>\n",
       "      <td>40</td>\n",
       "      <td>Private</td>\n",
       "      <td>154374</td>\n",
       "      <td>9</td>\n",
       "      <td>Married-civ-spouse</td>\n",
       "      <td>Machine-op-inspct</td>\n",
       "      <td>Husband</td>\n",
       "      <td>White</td>\n",
       "      <td>Male</td>\n",
       "      <td>0</td>\n",
       "      <td>40</td>\n",
       "      <td>&gt;50K</td>\n",
       "    </tr>\n",
       "    <tr>\n",
       "      <th>32558</th>\n",
       "      <td>58</td>\n",
       "      <td>Private</td>\n",
       "      <td>151910</td>\n",
       "      <td>9</td>\n",
       "      <td>Widowed</td>\n",
       "      <td>Adm-clerical</td>\n",
       "      <td>Unmarried</td>\n",
       "      <td>White</td>\n",
       "      <td>Female</td>\n",
       "      <td>0</td>\n",
       "      <td>40</td>\n",
       "      <td>&lt;=50K</td>\n",
       "    </tr>\n",
       "    <tr>\n",
       "      <th>32559</th>\n",
       "      <td>22</td>\n",
       "      <td>Private</td>\n",
       "      <td>201490</td>\n",
       "      <td>9</td>\n",
       "      <td>Never-married</td>\n",
       "      <td>Adm-clerical</td>\n",
       "      <td>Own-child</td>\n",
       "      <td>White</td>\n",
       "      <td>Male</td>\n",
       "      <td>0</td>\n",
       "      <td>20</td>\n",
       "      <td>&lt;=50K</td>\n",
       "    </tr>\n",
       "    <tr>\n",
       "      <th>32560</th>\n",
       "      <td>52</td>\n",
       "      <td>Self-emp-inc</td>\n",
       "      <td>287927</td>\n",
       "      <td>9</td>\n",
       "      <td>Married-civ-spouse</td>\n",
       "      <td>Exec-managerial</td>\n",
       "      <td>Wife</td>\n",
       "      <td>White</td>\n",
       "      <td>Female</td>\n",
       "      <td>15024</td>\n",
       "      <td>40</td>\n",
       "      <td>&gt;50K</td>\n",
       "    </tr>\n",
       "  </tbody>\n",
       "</table>\n",
       "<p>29169 rows × 12 columns</p>\n",
       "</div>"
      ],
      "text/plain": [
       "       age         workclass  fnlwgt  education-num      marital-status  \\\n",
       "0       39         State-gov   77516             13       Never-married   \n",
       "1       50  Self-emp-not-inc   83311             13  Married-civ-spouse   \n",
       "2       38           Private  215646              9            Divorced   \n",
       "3       53           Private  234721              7  Married-civ-spouse   \n",
       "5       37           Private  284582             14  Married-civ-spouse   \n",
       "...    ...               ...     ...            ...                 ...   \n",
       "32556   27           Private  257302             12  Married-civ-spouse   \n",
       "32557   40           Private  154374              9  Married-civ-spouse   \n",
       "32558   58           Private  151910              9             Widowed   \n",
       "32559   22           Private  201490              9       Never-married   \n",
       "32560   52      Self-emp-inc  287927              9  Married-civ-spouse   \n",
       "\n",
       "              occupation   relationship   race     sex  capital-gain  \\\n",
       "0           Adm-clerical  Not-in-family  White    Male          2174   \n",
       "1        Exec-managerial        Husband  White    Male             0   \n",
       "2      Handlers-cleaners  Not-in-family  White    Male             0   \n",
       "3      Handlers-cleaners        Husband  Black    Male             0   \n",
       "5        Exec-managerial           Wife  White  Female             0   \n",
       "...                  ...            ...    ...     ...           ...   \n",
       "32556       Tech-support           Wife  White  Female             0   \n",
       "32557  Machine-op-inspct        Husband  White    Male             0   \n",
       "32558       Adm-clerical      Unmarried  White  Female             0   \n",
       "32559       Adm-clerical      Own-child  White    Male             0   \n",
       "32560    Exec-managerial           Wife  White  Female         15024   \n",
       "\n",
       "       hours-per-week income  \n",
       "0                  40  <=50K  \n",
       "1                  13  <=50K  \n",
       "2                  40  <=50K  \n",
       "3                  40  <=50K  \n",
       "5                  40  <=50K  \n",
       "...               ...    ...  \n",
       "32556              38  <=50K  \n",
       "32557              40   >50K  \n",
       "32558              40  <=50K  \n",
       "32559              20  <=50K  \n",
       "32560              40   >50K  \n",
       "\n",
       "[29169 rows x 12 columns]"
      ]
     },
     "execution_count": 243,
     "metadata": {},
     "output_type": "execute_result"
    }
   ],
   "source": [
    "df"
   ]
  },
  {
   "cell_type": "code",
   "execution_count": 244,
   "id": "0b8d9db0",
   "metadata": {},
   "outputs": [
    {
     "data": {
      "text/html": [
       "<div>\n",
       "<style scoped>\n",
       "    .dataframe tbody tr th:only-of-type {\n",
       "        vertical-align: middle;\n",
       "    }\n",
       "\n",
       "    .dataframe tbody tr th {\n",
       "        vertical-align: top;\n",
       "    }\n",
       "\n",
       "    .dataframe thead th {\n",
       "        text-align: right;\n",
       "    }\n",
       "</style>\n",
       "<table border=\"1\" class=\"dataframe\">\n",
       "  <thead>\n",
       "    <tr style=\"text-align: right;\">\n",
       "      <th></th>\n",
       "      <th>Number of missing values</th>\n",
       "      <th>%</th>\n",
       "    </tr>\n",
       "  </thead>\n",
       "  <tbody>\n",
       "    <tr>\n",
       "      <th>age</th>\n",
       "      <td>0</td>\n",
       "      <td>0.0</td>\n",
       "    </tr>\n",
       "    <tr>\n",
       "      <th>workclass</th>\n",
       "      <td>0</td>\n",
       "      <td>0.0</td>\n",
       "    </tr>\n",
       "    <tr>\n",
       "      <th>fnlwgt</th>\n",
       "      <td>0</td>\n",
       "      <td>0.0</td>\n",
       "    </tr>\n",
       "    <tr>\n",
       "      <th>education-num</th>\n",
       "      <td>0</td>\n",
       "      <td>0.0</td>\n",
       "    </tr>\n",
       "    <tr>\n",
       "      <th>marital-status</th>\n",
       "      <td>0</td>\n",
       "      <td>0.0</td>\n",
       "    </tr>\n",
       "    <tr>\n",
       "      <th>occupation</th>\n",
       "      <td>0</td>\n",
       "      <td>0.0</td>\n",
       "    </tr>\n",
       "    <tr>\n",
       "      <th>relationship</th>\n",
       "      <td>0</td>\n",
       "      <td>0.0</td>\n",
       "    </tr>\n",
       "    <tr>\n",
       "      <th>race</th>\n",
       "      <td>0</td>\n",
       "      <td>0.0</td>\n",
       "    </tr>\n",
       "    <tr>\n",
       "      <th>sex</th>\n",
       "      <td>0</td>\n",
       "      <td>0.0</td>\n",
       "    </tr>\n",
       "    <tr>\n",
       "      <th>capital-gain</th>\n",
       "      <td>0</td>\n",
       "      <td>0.0</td>\n",
       "    </tr>\n",
       "    <tr>\n",
       "      <th>hours-per-week</th>\n",
       "      <td>0</td>\n",
       "      <td>0.0</td>\n",
       "    </tr>\n",
       "  </tbody>\n",
       "</table>\n",
       "</div>"
      ],
      "text/plain": [
       "                Number of missing values    %\n",
       "age                                    0  0.0\n",
       "workclass                              0  0.0\n",
       "fnlwgt                                 0  0.0\n",
       "education-num                          0  0.0\n",
       "marital-status                         0  0.0\n",
       "occupation                             0  0.0\n",
       "relationship                           0  0.0\n",
       "race                                   0  0.0\n",
       "sex                                    0  0.0\n",
       "capital-gain                           0  0.0\n",
       "hours-per-week                         0  0.0"
      ]
     },
     "execution_count": 244,
     "metadata": {},
     "output_type": "execute_result"
    }
   ],
   "source": [
    "total = df.isnull().sum().sort_values(ascending=False)\n",
    "percent_1 = df.isnull().sum()/df.isnull().count()*100\n",
    "percent = (round(percent_1, 1)).sort_values(ascending=False)\n",
    "missing_data = pd.concat([total, percent], axis=1, keys=['Number of missing values', '%'])\n",
    "missing_data.head(11)"
   ]
  },
  {
   "cell_type": "markdown",
   "id": "4504fa28",
   "metadata": {},
   "source": [
    "Checking for duplicates"
   ]
  },
  {
   "cell_type": "code",
   "execution_count": 245,
   "id": "def4c3cd",
   "metadata": {},
   "outputs": [],
   "source": [
    "feat = ['workclass','marital-status', 'occupation', 'relationship', 'race', 'sex','age','hours-per-week','capital-gain','education-num','fnlwgt']"
   ]
  },
  {
   "cell_type": "code",
   "execution_count": 246,
   "id": "71c9a7a3",
   "metadata": {},
   "outputs": [],
   "source": [
    "df.drop_duplicates(subset =feat,\n",
    "                     keep = 'first', inplace = True)\n",
    " "
   ]
  },
  {
   "cell_type": "code",
   "execution_count": 247,
   "id": "4a8c9724",
   "metadata": {},
   "outputs": [
    {
     "name": "stdout",
     "output_type": "stream",
     "text": [
      "<class 'pandas.core.frame.DataFrame'>\n",
      "Int64Index: 29149 entries, 0 to 32560\n",
      "Data columns (total 12 columns):\n",
      " #   Column          Non-Null Count  Dtype \n",
      "---  ------          --------------  ----- \n",
      " 0   age             29149 non-null  int64 \n",
      " 1   workclass       29149 non-null  object\n",
      " 2   fnlwgt          29149 non-null  int64 \n",
      " 3   education-num   29149 non-null  int64 \n",
      " 4   marital-status  29149 non-null  object\n",
      " 5   occupation      29149 non-null  object\n",
      " 6   relationship    29149 non-null  object\n",
      " 7   race            29149 non-null  object\n",
      " 8   sex             29149 non-null  object\n",
      " 9   capital-gain    29149 non-null  int64 \n",
      " 10  hours-per-week  29149 non-null  int64 \n",
      " 11  income          29149 non-null  object\n",
      "dtypes: int64(5), object(7)\n",
      "memory usage: 2.9+ MB\n"
     ]
    }
   ],
   "source": [
    "df.info()"
   ]
  },
  {
   "cell_type": "code",
   "execution_count": 248,
   "id": "051871b5",
   "metadata": {},
   "outputs": [
    {
     "data": {
      "text/html": [
       "<div>\n",
       "<style scoped>\n",
       "    .dataframe tbody tr th:only-of-type {\n",
       "        vertical-align: middle;\n",
       "    }\n",
       "\n",
       "    .dataframe tbody tr th {\n",
       "        vertical-align: top;\n",
       "    }\n",
       "\n",
       "    .dataframe thead th {\n",
       "        text-align: right;\n",
       "    }\n",
       "</style>\n",
       "<table border=\"1\" class=\"dataframe\">\n",
       "  <thead>\n",
       "    <tr style=\"text-align: right;\">\n",
       "      <th></th>\n",
       "      <th>age</th>\n",
       "      <th>workclass</th>\n",
       "      <th>fnlwgt</th>\n",
       "      <th>education-num</th>\n",
       "      <th>marital-status</th>\n",
       "      <th>occupation</th>\n",
       "      <th>relationship</th>\n",
       "      <th>race</th>\n",
       "      <th>sex</th>\n",
       "      <th>capital-gain</th>\n",
       "      <th>hours-per-week</th>\n",
       "      <th>income</th>\n",
       "    </tr>\n",
       "  </thead>\n",
       "  <tbody>\n",
       "    <tr>\n",
       "      <th>0</th>\n",
       "      <td>39</td>\n",
       "      <td>State-gov</td>\n",
       "      <td>77516</td>\n",
       "      <td>13</td>\n",
       "      <td>Never-married</td>\n",
       "      <td>Adm-clerical</td>\n",
       "      <td>Not-in-family</td>\n",
       "      <td>White</td>\n",
       "      <td>Male</td>\n",
       "      <td>2174</td>\n",
       "      <td>40</td>\n",
       "      <td>&lt;=50K</td>\n",
       "    </tr>\n",
       "    <tr>\n",
       "      <th>1</th>\n",
       "      <td>50</td>\n",
       "      <td>Self-emp-not-inc</td>\n",
       "      <td>83311</td>\n",
       "      <td>13</td>\n",
       "      <td>Married-civ-spouse</td>\n",
       "      <td>Exec-managerial</td>\n",
       "      <td>Husband</td>\n",
       "      <td>White</td>\n",
       "      <td>Male</td>\n",
       "      <td>0</td>\n",
       "      <td>13</td>\n",
       "      <td>&lt;=50K</td>\n",
       "    </tr>\n",
       "    <tr>\n",
       "      <th>2</th>\n",
       "      <td>38</td>\n",
       "      <td>Private</td>\n",
       "      <td>215646</td>\n",
       "      <td>9</td>\n",
       "      <td>Divorced</td>\n",
       "      <td>Handlers-cleaners</td>\n",
       "      <td>Not-in-family</td>\n",
       "      <td>White</td>\n",
       "      <td>Male</td>\n",
       "      <td>0</td>\n",
       "      <td>40</td>\n",
       "      <td>&lt;=50K</td>\n",
       "    </tr>\n",
       "    <tr>\n",
       "      <th>3</th>\n",
       "      <td>53</td>\n",
       "      <td>Private</td>\n",
       "      <td>234721</td>\n",
       "      <td>7</td>\n",
       "      <td>Married-civ-spouse</td>\n",
       "      <td>Handlers-cleaners</td>\n",
       "      <td>Husband</td>\n",
       "      <td>Black</td>\n",
       "      <td>Male</td>\n",
       "      <td>0</td>\n",
       "      <td>40</td>\n",
       "      <td>&lt;=50K</td>\n",
       "    </tr>\n",
       "    <tr>\n",
       "      <th>5</th>\n",
       "      <td>37</td>\n",
       "      <td>Private</td>\n",
       "      <td>284582</td>\n",
       "      <td>14</td>\n",
       "      <td>Married-civ-spouse</td>\n",
       "      <td>Exec-managerial</td>\n",
       "      <td>Wife</td>\n",
       "      <td>White</td>\n",
       "      <td>Female</td>\n",
       "      <td>0</td>\n",
       "      <td>40</td>\n",
       "      <td>&lt;=50K</td>\n",
       "    </tr>\n",
       "    <tr>\n",
       "      <th>...</th>\n",
       "      <td>...</td>\n",
       "      <td>...</td>\n",
       "      <td>...</td>\n",
       "      <td>...</td>\n",
       "      <td>...</td>\n",
       "      <td>...</td>\n",
       "      <td>...</td>\n",
       "      <td>...</td>\n",
       "      <td>...</td>\n",
       "      <td>...</td>\n",
       "      <td>...</td>\n",
       "      <td>...</td>\n",
       "    </tr>\n",
       "    <tr>\n",
       "      <th>32556</th>\n",
       "      <td>27</td>\n",
       "      <td>Private</td>\n",
       "      <td>257302</td>\n",
       "      <td>12</td>\n",
       "      <td>Married-civ-spouse</td>\n",
       "      <td>Tech-support</td>\n",
       "      <td>Wife</td>\n",
       "      <td>White</td>\n",
       "      <td>Female</td>\n",
       "      <td>0</td>\n",
       "      <td>38</td>\n",
       "      <td>&lt;=50K</td>\n",
       "    </tr>\n",
       "    <tr>\n",
       "      <th>32557</th>\n",
       "      <td>40</td>\n",
       "      <td>Private</td>\n",
       "      <td>154374</td>\n",
       "      <td>9</td>\n",
       "      <td>Married-civ-spouse</td>\n",
       "      <td>Machine-op-inspct</td>\n",
       "      <td>Husband</td>\n",
       "      <td>White</td>\n",
       "      <td>Male</td>\n",
       "      <td>0</td>\n",
       "      <td>40</td>\n",
       "      <td>&gt;50K</td>\n",
       "    </tr>\n",
       "    <tr>\n",
       "      <th>32558</th>\n",
       "      <td>58</td>\n",
       "      <td>Private</td>\n",
       "      <td>151910</td>\n",
       "      <td>9</td>\n",
       "      <td>Widowed</td>\n",
       "      <td>Adm-clerical</td>\n",
       "      <td>Unmarried</td>\n",
       "      <td>White</td>\n",
       "      <td>Female</td>\n",
       "      <td>0</td>\n",
       "      <td>40</td>\n",
       "      <td>&lt;=50K</td>\n",
       "    </tr>\n",
       "    <tr>\n",
       "      <th>32559</th>\n",
       "      <td>22</td>\n",
       "      <td>Private</td>\n",
       "      <td>201490</td>\n",
       "      <td>9</td>\n",
       "      <td>Never-married</td>\n",
       "      <td>Adm-clerical</td>\n",
       "      <td>Own-child</td>\n",
       "      <td>White</td>\n",
       "      <td>Male</td>\n",
       "      <td>0</td>\n",
       "      <td>20</td>\n",
       "      <td>&lt;=50K</td>\n",
       "    </tr>\n",
       "    <tr>\n",
       "      <th>32560</th>\n",
       "      <td>52</td>\n",
       "      <td>Self-emp-inc</td>\n",
       "      <td>287927</td>\n",
       "      <td>9</td>\n",
       "      <td>Married-civ-spouse</td>\n",
       "      <td>Exec-managerial</td>\n",
       "      <td>Wife</td>\n",
       "      <td>White</td>\n",
       "      <td>Female</td>\n",
       "      <td>15024</td>\n",
       "      <td>40</td>\n",
       "      <td>&gt;50K</td>\n",
       "    </tr>\n",
       "  </tbody>\n",
       "</table>\n",
       "<p>29149 rows × 12 columns</p>\n",
       "</div>"
      ],
      "text/plain": [
       "       age         workclass  fnlwgt  education-num      marital-status  \\\n",
       "0       39         State-gov   77516             13       Never-married   \n",
       "1       50  Self-emp-not-inc   83311             13  Married-civ-spouse   \n",
       "2       38           Private  215646              9            Divorced   \n",
       "3       53           Private  234721              7  Married-civ-spouse   \n",
       "5       37           Private  284582             14  Married-civ-spouse   \n",
       "...    ...               ...     ...            ...                 ...   \n",
       "32556   27           Private  257302             12  Married-civ-spouse   \n",
       "32557   40           Private  154374              9  Married-civ-spouse   \n",
       "32558   58           Private  151910              9             Widowed   \n",
       "32559   22           Private  201490              9       Never-married   \n",
       "32560   52      Self-emp-inc  287927              9  Married-civ-spouse   \n",
       "\n",
       "              occupation   relationship   race     sex  capital-gain  \\\n",
       "0           Adm-clerical  Not-in-family  White    Male          2174   \n",
       "1        Exec-managerial        Husband  White    Male             0   \n",
       "2      Handlers-cleaners  Not-in-family  White    Male             0   \n",
       "3      Handlers-cleaners        Husband  Black    Male             0   \n",
       "5        Exec-managerial           Wife  White  Female             0   \n",
       "...                  ...            ...    ...     ...           ...   \n",
       "32556       Tech-support           Wife  White  Female             0   \n",
       "32557  Machine-op-inspct        Husband  White    Male             0   \n",
       "32558       Adm-clerical      Unmarried  White  Female             0   \n",
       "32559       Adm-clerical      Own-child  White    Male             0   \n",
       "32560    Exec-managerial           Wife  White  Female         15024   \n",
       "\n",
       "       hours-per-week income  \n",
       "0                  40  <=50K  \n",
       "1                  13  <=50K  \n",
       "2                  40  <=50K  \n",
       "3                  40  <=50K  \n",
       "5                  40  <=50K  \n",
       "...               ...    ...  \n",
       "32556              38  <=50K  \n",
       "32557              40   >50K  \n",
       "32558              40  <=50K  \n",
       "32559              20  <=50K  \n",
       "32560              40   >50K  \n",
       "\n",
       "[29149 rows x 12 columns]"
      ]
     },
     "execution_count": 248,
     "metadata": {},
     "output_type": "execute_result"
    }
   ],
   "source": [
    "df"
   ]
  },
  {
   "cell_type": "markdown",
   "id": "928297bf",
   "metadata": {},
   "source": [
    "Train test split"
   ]
  },
  {
   "cell_type": "code",
   "execution_count": 249,
   "id": "6fd67ee1",
   "metadata": {},
   "outputs": [],
   "source": [
    "from sklearn.model_selection import train_test_split"
   ]
  },
  {
   "cell_type": "code",
   "execution_count": 250,
   "id": "19eb174c",
   "metadata": {},
   "outputs": [],
   "source": [
    "training_set, test_set = train_test_split(df, test_size=0.2, random_state=1, stratify=df[['income']])"
   ]
  },
  {
   "cell_type": "code",
   "execution_count": 251,
   "id": "3cd60a8f",
   "metadata": {},
   "outputs": [
    {
     "name": "stdout",
     "output_type": "stream",
     "text": [
      "Ratio of income in training set >50K : <=50K = 1:3.0675\n"
     ]
    }
   ],
   "source": [
    "ratio = len(training_set[training_set['income'] == '<=50K']) / len(training_set[training_set['income'] =='>50K'])\n",
    "print(f'Ratio of income in training set >50K : <=50K = 1:{ratio:.4f}')"
   ]
  },
  {
   "cell_type": "code",
   "execution_count": 252,
   "id": "08015d04",
   "metadata": {},
   "outputs": [
    {
     "name": "stdout",
     "output_type": "stream",
     "text": [
      "Ratio of income in testing set >50K : <=50K = 1:3.0684\n"
     ]
    }
   ],
   "source": [
    "ratio = len(test_set[test_set['income'] == '<=50K']) / len(test_set[test_set['income'] == '>50K'])\n",
    "print(f'Ratio of income in testing set >50K : <=50K = 1:{ratio:.4f}')"
   ]
  },
  {
   "cell_type": "code",
   "execution_count": 253,
   "id": "4c73d6c5",
   "metadata": {},
   "outputs": [
    {
     "name": "stdout",
     "output_type": "stream",
     "text": [
      "<class 'pandas.core.frame.DataFrame'>\n",
      "Int64Index: 29149 entries, 0 to 32560\n",
      "Data columns (total 12 columns):\n",
      " #   Column          Non-Null Count  Dtype \n",
      "---  ------          --------------  ----- \n",
      " 0   age             29149 non-null  int64 \n",
      " 1   workclass       29149 non-null  object\n",
      " 2   fnlwgt          29149 non-null  int64 \n",
      " 3   education-num   29149 non-null  int64 \n",
      " 4   marital-status  29149 non-null  object\n",
      " 5   occupation      29149 non-null  object\n",
      " 6   relationship    29149 non-null  object\n",
      " 7   race            29149 non-null  object\n",
      " 8   sex             29149 non-null  object\n",
      " 9   capital-gain    29149 non-null  int64 \n",
      " 10  hours-per-week  29149 non-null  int64 \n",
      " 11  income          29149 non-null  object\n",
      "dtypes: int64(5), object(7)\n",
      "memory usage: 2.9+ MB\n"
     ]
    }
   ],
   "source": [
    "df.info()"
   ]
  },
  {
   "cell_type": "code",
   "execution_count": 254,
   "id": "dc6dc103",
   "metadata": {},
   "outputs": [],
   "source": [
    "# let us first separate numerical and categorical(nominal/ordinal) columns\n",
    "\n",
    "nom_feat = ['workclass','marital-status', 'occupation', 'relationship', 'race', 'sex']\n",
    "ord_feat = ['education-num']\n",
    "num_feat = ['age', 'hours-per-week', 'capital-gain', 'fnlwgt']"
   ]
  },
  {
   "cell_type": "code",
   "execution_count": 255,
   "id": "31860f53",
   "metadata": {},
   "outputs": [],
   "source": [
    "# copy data for preventing damage in raw training data\n",
    "data = training_set.copy()\n",
    "data1=test_set.copy()"
   ]
  },
  {
   "cell_type": "code",
   "execution_count": 256,
   "id": "ecdccf2e",
   "metadata": {},
   "outputs": [],
   "source": [
    "X_train = data.iloc[:,:-1]\n",
    "y_train = data.iloc[:,-1]\n",
    "X_test = data1.iloc[:,:-1]\n",
    "y_test = data1.iloc[:,-1]"
   ]
  },
  {
   "cell_type": "markdown",
   "id": "d25fa7b0",
   "metadata": {},
   "source": [
    "One-hot encoding and ordinal encoding"
   ]
  },
  {
   "cell_type": "code",
   "execution_count": 257,
   "id": "d0de1920",
   "metadata": {},
   "outputs": [],
   "source": [
    "# import OneHotEncoder and OrdinalEncoder from sklearn.preprocessing\n",
    "from sklearn.preprocessing import OneHotEncoder, OrdinalEncoder"
   ]
  },
  {
   "cell_type": "code",
   "execution_count": 258,
   "id": "aa2a9d2a",
   "metadata": {},
   "outputs": [],
   "source": [
    "ohe = OneHotEncoder(sparse=False)\n",
    "ohe.fit(X_train[nom_feat].values)\n",
    "X_train_nom = ohe.transform(X_train[nom_feat].values)\n",
    "X_test_nom=ohe.transform(X_test[nom_feat].values)\n",
    "X_train_ord=X_train[ord_feat].values\n",
    "X_test_ord=X_test[ord_feat].values"
   ]
  },
  {
   "cell_type": "code",
   "execution_count": 259,
   "id": "631fa19f",
   "metadata": {},
   "outputs": [
    {
     "data": {
      "text/plain": [
       "array([[13],\n",
       "       [14],\n",
       "       [ 9],\n",
       "       ...,\n",
       "       [11],\n",
       "       [10],\n",
       "       [ 9]])"
      ]
     },
     "execution_count": 259,
     "metadata": {},
     "output_type": "execute_result"
    }
   ],
   "source": [
    "X_train_ord"
   ]
  },
  {
   "cell_type": "code",
   "execution_count": 260,
   "id": "074a6368",
   "metadata": {},
   "outputs": [
    {
     "data": {
      "text/plain": [
       "array([[0., 0., 0., ..., 1., 0., 1.],\n",
       "       [0., 0., 0., ..., 1., 0., 1.],\n",
       "       [0., 1., 0., ..., 1., 1., 0.],\n",
       "       ...,\n",
       "       [0., 0., 0., ..., 1., 0., 1.],\n",
       "       [0., 0., 0., ..., 1., 0., 1.],\n",
       "       [0., 0., 0., ..., 1., 0., 1.]])"
      ]
     },
     "execution_count": 260,
     "metadata": {},
     "output_type": "execute_result"
    }
   ],
   "source": [
    "X_test_nom"
   ]
  },
  {
   "cell_type": "markdown",
   "id": "15c42e37",
   "metadata": {},
   "source": [
    "Feature scaling"
   ]
  },
  {
   "cell_type": "code",
   "execution_count": 261,
   "id": "28fee63d",
   "metadata": {},
   "outputs": [],
   "source": [
    "# import scaler\n",
    "from sklearn.preprocessing import StandardScaler"
   ]
  },
  {
   "cell_type": "code",
   "execution_count": 262,
   "id": "3a4112d0",
   "metadata": {},
   "outputs": [],
   "source": [
    "scalar = StandardScaler()\n",
    "scalar.fit(X_train[num_feat].values)\n",
    "X_train_num = scalar.transform(X_train[num_feat].values)\n",
    "X_test_num=scalar.transform(X_test[num_feat].values)"
   ]
  },
  {
   "cell_type": "code",
   "execution_count": 263,
   "id": "1dd52128",
   "metadata": {},
   "outputs": [],
   "source": [
    "X_train = np.concatenate([X_train_num, X_train_ord, X_train_nom], axis=1)\n",
    "X_test= np.concatenate([X_test_num, X_test_ord, X_test_nom], axis=1)"
   ]
  },
  {
   "cell_type": "code",
   "execution_count": 264,
   "id": "5c3d0349",
   "metadata": {},
   "outputs": [
    {
     "data": {
      "text/plain": [
       "(5830, 47)"
      ]
     },
     "execution_count": 264,
     "metadata": {},
     "output_type": "execute_result"
    }
   ],
   "source": [
    "X_test.shape"
   ]
  },
  {
   "cell_type": "code",
   "execution_count": 265,
   "id": "14d63a32",
   "metadata": {},
   "outputs": [
    {
     "data": {
      "text/plain": [
       "(23319, 47)"
      ]
     },
     "execution_count": 265,
     "metadata": {},
     "output_type": "execute_result"
    }
   ],
   "source": [
    "X_train.shape"
   ]
  },
  {
   "cell_type": "markdown",
   "id": "8e6f7eff",
   "metadata": {},
   "source": [
    "## Training models"
   ]
  },
  {
   "cell_type": "markdown",
   "id": "b538f6a5",
   "metadata": {},
   "source": [
    "Logistic Regression"
   ]
  },
  {
   "cell_type": "code",
   "execution_count": 266,
   "id": "34b1db18",
   "metadata": {},
   "outputs": [],
   "source": [
    "from sklearn.linear_model import LogisticRegression\n",
    "log_reg_cw = LogisticRegression(class_weight='balanced',max_iter=800)\n",
    "log_reg_cw.fit(X_train, y_train)\n",
    "accuracy_logreg=log_reg_cw.score(X_train, y_train)"
   ]
  },
  {
   "cell_type": "code",
   "execution_count": 267,
   "id": "baf1fc45",
   "metadata": {},
   "outputs": [
    {
     "data": {
      "text/plain": [
       "0.7977185985676916"
      ]
     },
     "execution_count": 267,
     "metadata": {},
     "output_type": "execute_result"
    }
   ],
   "source": [
    "accuracy_logreg"
   ]
  },
  {
   "cell_type": "code",
   "execution_count": 268,
   "id": "8e78a9e1",
   "metadata": {},
   "outputs": [
    {
     "data": {
      "text/plain": [
       "24266    <=50K\n",
       "8038     <=50K\n",
       "27126    <=50K\n",
       "20311     >50K\n",
       "23122    <=50K\n",
       "         ...  \n",
       "11845    <=50K\n",
       "20354    <=50K\n",
       "2241     <=50K\n",
       "20864     >50K\n",
       "6093     <=50K\n",
       "Name: income, Length: 5830, dtype: object"
      ]
     },
     "execution_count": 268,
     "metadata": {},
     "output_type": "execute_result"
    }
   ],
   "source": [
    "y_test"
   ]
  },
  {
   "cell_type": "code",
   "execution_count": 269,
   "id": "4bc1cc15",
   "metadata": {},
   "outputs": [
    {
     "data": {
      "text/plain": [
       "array(['<=50K', '>50K', '<=50K', ..., '<=50K', '>50K', '<=50K'],\n",
       "      dtype=object)"
      ]
     },
     "execution_count": 269,
     "metadata": {},
     "output_type": "execute_result"
    }
   ],
   "source": [
    "y_pred = log_reg_cw.predict(X_test)\n",
    "y_pred"
   ]
  },
  {
   "cell_type": "markdown",
   "id": "5a2c1768",
   "metadata": {},
   "source": [
    "Decision Tree"
   ]
  },
  {
   "cell_type": "code",
   "execution_count": 270,
   "id": "a0ab5658",
   "metadata": {},
   "outputs": [],
   "source": [
    "from sklearn.tree import DecisionTreeClassifier\n",
    "dectree = DecisionTreeClassifier(random_state=0,class_weight='balanced')\n",
    "dectree.fit(X_train, y_train)\n",
    "accuracy_dectree=dectree.score(X_train, y_train)"
   ]
  },
  {
   "cell_type": "code",
   "execution_count": 271,
   "id": "6f0b11bf",
   "metadata": {},
   "outputs": [
    {
     "data": {
      "text/plain": [
       "1.0"
      ]
     },
     "execution_count": 271,
     "metadata": {},
     "output_type": "execute_result"
    }
   ],
   "source": [
    "accuracy_dectree"
   ]
  },
  {
   "cell_type": "code",
   "execution_count": 272,
   "id": "0f44db08",
   "metadata": {},
   "outputs": [],
   "source": [
    "from sklearn.tree import DecisionTreeClassifier\n",
    "dectree = DecisionTreeClassifier(random_state=0,class_weight='balanced',max_depth=10)\n",
    "dectree.fit(X_train, y_train)\n",
    "accuracy_dectree=dectree.score(X_train, y_train)"
   ]
  },
  {
   "cell_type": "code",
   "execution_count": 273,
   "id": "ac1b189b",
   "metadata": {},
   "outputs": [
    {
     "data": {
      "text/plain": [
       "0.8290664265191475"
      ]
     },
     "execution_count": 273,
     "metadata": {},
     "output_type": "execute_result"
    }
   ],
   "source": [
    "accuracy_dectree"
   ]
  },
  {
   "cell_type": "markdown",
   "id": "679565ea",
   "metadata": {},
   "source": [
    "Random forest"
   ]
  },
  {
   "cell_type": "code",
   "execution_count": 274,
   "id": "ab451309",
   "metadata": {},
   "outputs": [],
   "source": [
    " from sklearn.ensemble import RandomForestClassifier\n",
    "randfor = RandomForestClassifier(n_estimators=100, random_state=0,class_weight='balanced',max_depth=10)\n",
    "randfor.fit(X_train,y_train)\n",
    "accuracy_randfor=randfor.score(X_train, y_train)"
   ]
  },
  {
   "cell_type": "code",
   "execution_count": 275,
   "id": "feb2b9e8",
   "metadata": {},
   "outputs": [
    {
     "data": {
      "text/plain": [
       "0.8043655388309962"
      ]
     },
     "execution_count": 275,
     "metadata": {},
     "output_type": "execute_result"
    }
   ],
   "source": [
    "accuracy_randfor"
   ]
  },
  {
   "cell_type": "markdown",
   "id": "76eb21f2",
   "metadata": {},
   "source": [
    "Support Vector Machine"
   ]
  },
  {
   "cell_type": "code",
   "execution_count": 276,
   "id": "e5c0100a",
   "metadata": {},
   "outputs": [],
   "source": [
    "from sklearn import svm\n",
    "suppvm = svm.SVC(kernel='poly',class_weight='balanced')\n",
    "suppvm.fit(X_train, y_train)\n",
    "accuracy_suppvm=suppvm.score(X_train, y_train)"
   ]
  },
  {
   "cell_type": "code",
   "execution_count": 277,
   "id": "29021daf",
   "metadata": {},
   "outputs": [
    {
     "data": {
      "text/plain": [
       "0.8003344911874437"
      ]
     },
     "execution_count": 277,
     "metadata": {},
     "output_type": "execute_result"
    }
   ],
   "source": [
    "accuracy_suppvm"
   ]
  },
  {
   "cell_type": "code",
   "execution_count": 278,
   "id": "f32171d1",
   "metadata": {},
   "outputs": [],
   "source": [
    "suppvm1 = svm.SVC(kernel='rbf',class_weight='balanced')\n",
    "suppvm1.fit(X_train, y_train)\n",
    "accuracy_suppvm1=suppvm1.score(X_train, y_train)"
   ]
  },
  {
   "cell_type": "code",
   "execution_count": 279,
   "id": "44c3b3f0",
   "metadata": {},
   "outputs": [
    {
     "data": {
      "text/plain": [
       "0.7798361850851238"
      ]
     },
     "execution_count": 279,
     "metadata": {},
     "output_type": "execute_result"
    }
   ],
   "source": [
    "accuracy_suppvm1"
   ]
  },
  {
   "cell_type": "markdown",
   "id": "de75a49f",
   "metadata": {},
   "source": [
    "k-NN"
   ]
  },
  {
   "cell_type": "code",
   "execution_count": 280,
   "id": "b06c7c95",
   "metadata": {},
   "outputs": [],
   "source": [
    "from sklearn.neighbors import KNeighborsClassifier\n",
    "knn = KNeighborsClassifier(n_neighbors = 15,weights='distance') \n",
    "knn.fit(X_train, y_train) \n",
    "accuracy_knn=knn.score(X_train,y_train)"
   ]
  },
  {
   "cell_type": "markdown",
   "id": "fa9f25e7",
   "metadata": {},
   "source": [
    "## Evaluation"
   ]
  },
  {
   "cell_type": "markdown",
   "id": "fb6fb7fc",
   "metadata": {},
   "source": [
    "10-fold Cross-validation"
   ]
  },
  {
   "cell_type": "code",
   "execution_count": 281,
   "id": "0042cc62",
   "metadata": {},
   "outputs": [],
   "source": [
    "from sklearn.model_selection import cross_val_score\n",
    "def validation(model, x, y):\n",
    "    scores = cross_val_score(model, x, y, cv=10)\n",
    "    return scores.mean()"
   ]
  },
  {
   "cell_type": "code",
   "execution_count": 282,
   "id": "74218749",
   "metadata": {},
   "outputs": [],
   "source": [
    "val_logreg=validation(log_reg_cw,X_train,y_train)"
   ]
  },
  {
   "cell_type": "code",
   "execution_count": 283,
   "id": "75af9dfa",
   "metadata": {},
   "outputs": [],
   "source": [
    "val_dectree=validation(dectree, X_train, y_train)"
   ]
  },
  {
   "cell_type": "code",
   "execution_count": 284,
   "id": "e349c79b",
   "metadata": {},
   "outputs": [],
   "source": [
    "val_randfor=validation(randfor, X_train, y_train)"
   ]
  },
  {
   "cell_type": "code",
   "execution_count": 285,
   "id": "d94381c2",
   "metadata": {},
   "outputs": [],
   "source": [
    "val_suppvm=validation(suppvm, X_train, y_train)"
   ]
  },
  {
   "cell_type": "code",
   "execution_count": 286,
   "id": "3faf8df7",
   "metadata": {},
   "outputs": [],
   "source": [
    "val_suppvm1=validation(suppvm1, X_train, y_train)"
   ]
  },
  {
   "cell_type": "code",
   "execution_count": 287,
   "id": "b292a656",
   "metadata": {},
   "outputs": [],
   "source": [
    "val_knn=validation(knn, X_train, y_train)"
   ]
  },
  {
   "cell_type": "code",
   "execution_count": 288,
   "id": "eb0e8f1c",
   "metadata": {},
   "outputs": [],
   "source": [
    "evaluation = pd.DataFrame({'Model': ['Logistic regression', 'Decision tree', 'Random Forest',\n",
    "              'SVM(poly)','SVM(rbf)', 'k-NN'],\n",
    "                           'Accuracy Score on training set': [accuracy_logreg, \n",
    "              accuracy_dectree,accuracy_randfor, \n",
    "              accuracy_suppvm,accuracy_suppvm1, accuracy_knn],\n",
    "                           'Accuracy using 10-fold cross validation': [val_logreg, \n",
    "              val_dectree,val_randfor, \n",
    "              val_suppvm,val_suppvm1, val_knn]})\n",
    "evaluation = evaluation.set_index('Model')"
   ]
  },
  {
   "cell_type": "code",
   "execution_count": 289,
   "id": "d5969ef8",
   "metadata": {},
   "outputs": [
    {
     "data": {
      "text/html": [
       "<div>\n",
       "<style scoped>\n",
       "    .dataframe tbody tr th:only-of-type {\n",
       "        vertical-align: middle;\n",
       "    }\n",
       "\n",
       "    .dataframe tbody tr th {\n",
       "        vertical-align: top;\n",
       "    }\n",
       "\n",
       "    .dataframe thead th {\n",
       "        text-align: right;\n",
       "    }\n",
       "</style>\n",
       "<table border=\"1\" class=\"dataframe\">\n",
       "  <thead>\n",
       "    <tr style=\"text-align: right;\">\n",
       "      <th></th>\n",
       "      <th>Accuracy Score on training set</th>\n",
       "      <th>Accuracy using 10-fold cross validation</th>\n",
       "    </tr>\n",
       "    <tr>\n",
       "      <th>Model</th>\n",
       "      <th></th>\n",
       "      <th></th>\n",
       "    </tr>\n",
       "  </thead>\n",
       "  <tbody>\n",
       "    <tr>\n",
       "      <th>Logistic regression</th>\n",
       "      <td>0.797719</td>\n",
       "      <td>0.797204</td>\n",
       "    </tr>\n",
       "    <tr>\n",
       "      <th>Decision tree</th>\n",
       "      <td>0.829066</td>\n",
       "      <td>0.795574</td>\n",
       "    </tr>\n",
       "    <tr>\n",
       "      <th>Random Forest</th>\n",
       "      <td>0.804366</td>\n",
       "      <td>0.790557</td>\n",
       "    </tr>\n",
       "    <tr>\n",
       "      <th>SVM(poly)</th>\n",
       "      <td>0.800334</td>\n",
       "      <td>0.799005</td>\n",
       "    </tr>\n",
       "    <tr>\n",
       "      <th>SVM(rbf)</th>\n",
       "      <td>0.779836</td>\n",
       "      <td>0.776706</td>\n",
       "    </tr>\n",
       "    <tr>\n",
       "      <th>k-NN</th>\n",
       "      <td>1.000000</td>\n",
       "      <td>0.835627</td>\n",
       "    </tr>\n",
       "  </tbody>\n",
       "</table>\n",
       "</div>"
      ],
      "text/plain": [
       "                     Accuracy Score on training set  \\\n",
       "Model                                                 \n",
       "Logistic regression                        0.797719   \n",
       "Decision tree                              0.829066   \n",
       "Random Forest                              0.804366   \n",
       "SVM(poly)                                  0.800334   \n",
       "SVM(rbf)                                   0.779836   \n",
       "k-NN                                       1.000000   \n",
       "\n",
       "                     Accuracy using 10-fold cross validation  \n",
       "Model                                                         \n",
       "Logistic regression                                 0.797204  \n",
       "Decision tree                                       0.795574  \n",
       "Random Forest                                       0.790557  \n",
       "SVM(poly)                                           0.799005  \n",
       "SVM(rbf)                                            0.776706  \n",
       "k-NN                                                0.835627  "
      ]
     },
     "execution_count": 289,
     "metadata": {},
     "output_type": "execute_result"
    }
   ],
   "source": [
    "evaluation"
   ]
  },
  {
   "cell_type": "markdown",
   "id": "41853b0e",
   "metadata": {},
   "source": [
    "ROC-AUC curve"
   ]
  },
  {
   "cell_type": "code",
   "execution_count": 290,
   "id": "df5f8239",
   "metadata": {},
   "outputs": [],
   "source": [
    "from sklearn.metrics import confusion_matrix, plot_confusion_matrix, classification_report, precision_recall_fscore_support,\\\n",
    "roc_auc_score, accuracy_score, precision_score, recall_score, f1_score"
   ]
  },
  {
   "cell_type": "code",
   "execution_count": 291,
   "id": "f23bf0ef",
   "metadata": {},
   "outputs": [
    {
     "data": {
      "text/plain": [
       "array([0.16799821, 0.86317739, 0.06926885, ..., 0.23685992, 0.78521297,\n",
       "       0.16342413])"
      ]
     },
     "execution_count": 291,
     "metadata": {},
     "output_type": "execute_result"
    }
   ],
   "source": [
    "log_reg_cw.predict_proba(X_test)[:, 1]"
   ]
  },
  {
   "cell_type": "code",
   "execution_count": 333,
   "id": "cf23317c",
   "metadata": {},
   "outputs": [
    {
     "data": {
      "text/plain": [
       "array(['<=50K', '>50K', '<=50K', ..., '<=50K', '>50K', '<=50K'],\n",
       "      dtype=object)"
      ]
     },
     "execution_count": 333,
     "metadata": {},
     "output_type": "execute_result"
    }
   ],
   "source": [
    "log_reg_cw.predict(X_test)"
   ]
  },
  {
   "cell_type": "code",
   "execution_count": 293,
   "id": "56cda84c",
   "metadata": {},
   "outputs": [],
   "source": [
    "#Logistic Regression\n",
    "y_proba= log_reg_cw.predict_proba(X_test)[:, 1]\n",
    "roc_auc_logreg=roc_auc_score(y_test, y_proba)\n",
    "#Decision tree\n",
    "y_proba1=dectree.predict_proba(X_test)[:, 1]\n",
    "roc_auc_logreg1=roc_auc_score(y_test, y_proba1)\n",
    "#Random Forest\n",
    "y_proba2=randfor.predict_proba(X_test)[:, 1]\n",
    "roc_auc_logreg2=roc_auc_score(y_test, y_proba2)\n",
    "#k-NN\n",
    "y_proba4=knn.predict_proba(X_test)[:, 1]\n",
    "roc_auc_logreg4=roc_auc_score(y_test, y_proba4)"
   ]
  },
  {
   "cell_type": "code",
   "execution_count": 294,
   "id": "3bd30b8f",
   "metadata": {},
   "outputs": [],
   "source": [
    "from sklearn.metrics import auc, roc_curve\n",
    "#Logistic Regression\n",
    "fpr, tpr, threshold = roc_curve(y_test, y_proba,pos_label='>50K')\n",
    "rocauc = auc(fpr, tpr)\n",
    "#Decision Tree\n",
    "fpr1,tpr1,threshold1= roc_curve(y_test,y_proba1,pos_label='>50K')\n",
    "rocauc1 = auc(fpr1, tpr1)\n",
    "#Random Forest\n",
    "fpr2,tpr2,threshold2= roc_curve(y_test,y_proba2,pos_label='>50K')\n",
    "rocauc2 = auc(fpr2, tpr2)\n",
    "#k-NN\n",
    "fpr4,tpr4,threshold4= roc_curve(y_test,y_proba4,pos_label='>50K')\n",
    "rocauc4 = auc(fpr4, tpr4)"
   ]
  },
  {
   "cell_type": "code",
   "execution_count": 295,
   "id": "69528632",
   "metadata": {},
   "outputs": [
    {
     "data": {
      "image/png": "[encoded data removed]",
      "text/plain": [
       "<Figure size 640x480 with 1 Axes>"
      ]
     },
     "metadata": {},
     "output_type": "display_data"
    }
   ],
   "source": [
    "plt.figure()\n",
    "plt.plot(fpr, tpr, label=f'Logistic Regression (area={rocauc:.4f})')\n",
    "plt.plot(fpr1, tpr1, label=f'Decision tree (area={rocauc1:.4f})')\n",
    "plt.plot(fpr2, tpr2, label=f'Random Forest (area={rocauc2:.4f})')\n",
    "plt.plot(fpr4, tpr4, label=f'k-NN(area={rocauc4:.4f})')\n",
    "plt.plot([0, 1], [0, 1], color='navy', lw=2, linestyle='--')\n",
    "plt.xlim([0.0, 1.0])\n",
    "plt.ylim([0.0, 1.05])\n",
    "\n",
    "plt.xlabel('False Positive Rate')\n",
    "plt.ylabel('True Positive Rate')\n",
    "plt.title('Receiver operating characteristic ')\n",
    "plt.legend(loc=\"lower right\")\n",
    "plt.show()"
   ]
  },
  {
   "cell_type": "code",
   "execution_count": 296,
   "id": "b501cc18",
   "metadata": {},
   "outputs": [
    {
     "data": {
      "text/plain": [
       "{'class_weight': {'<=50K': 0.32336683417085427, '>50K': 0.6766331658291458}}"
      ]
     },
     "execution_count": 296,
     "metadata": {},
     "output_type": "execute_result"
    }
   ],
   "source": [
    "from sklearn.model_selection import GridSearchCV, StratifiedKFold\n",
    "from sklearn.metrics import f1_score\n",
    "from sklearn.metrics import make_scorer\n",
    "f1_scorer = make_scorer(f1_score, pos_label=\">50K\")\n",
    "\n",
    "lr = LogisticRegression(solver='newton-cg')\n",
    "\n",
    "#Setting the range for class weights \n",
    "weights = np.linspace(0.0,0.99,200)\n",
    "\n",
    "#Creating a dictionary grid for grid search\n",
    "param_grid = [{'class_weight': [{'<=50K':x, '>50K':1.0-x} for x in weights]}]\n",
    "\n",
    "#Fitting grid search to the train data with 5 folds\n",
    "gridsearch = GridSearchCV(lr, \n",
    "                          param_grid= param_grid,  \n",
    "                          scoring=f1_scorer, \n",
    "                          cv = 5) \n",
    "gridsearch.fit(X_train, y_train)\n",
    "gridsearch.best_params_"
   ]
  },
  {
   "cell_type": "code",
   "execution_count": 297,
   "id": "41c950a8",
   "metadata": {},
   "outputs": [
    {
     "data": {
      "text/plain": [
       "0.7977185985676916"
      ]
     },
     "execution_count": 297,
     "metadata": {},
     "output_type": "execute_result"
    }
   ],
   "source": [
    "accuracy_logreg"
   ]
  },
  {
   "cell_type": "code",
   "execution_count": 298,
   "id": "e1a26693",
   "metadata": {},
   "outputs": [
    {
     "data": {
      "text/html": [
       "<style>#sk-container-id-1 {color: black;background-color: white;}#sk-container-id-1 pre{padding: 0;}#sk-container-id-1 div.sk-toggleable {background-color: white;}#sk-container-id-1 label.sk-toggleable__label {cursor: pointer;display: block;width: 100%;margin-bottom: 0;padding: 0.3em;box-sizing: border-box;text-align: center;}#sk-container-id-1 label.sk-toggleable__label-arrow:before {content: \"▸\";float: left;margin-right: 0.25em;color: #696969;}#sk-container-id-1 label.sk-toggleable__label-arrow:hover:before {color: black;}#sk-container-id-1 div.sk-estimator:hover label.sk-toggleable__label-arrow:before {color: black;}#sk-container-id-1 div.sk-toggleable__content {max-height: 0;max-width: 0;overflow: hidden;text-align: left;background-color: #f0f8ff;}#sk-container-id-1 div.sk-toggleable__content pre {margin: 0.2em;color: black;border-radius: 0.25em;background-color: #f0f8ff;}#sk-container-id-1 input.sk-toggleable__control:checked~div.sk-toggleable__content {max-height: 200px;max-width: 100%;overflow: auto;}#sk-container-id-1 input.sk-toggleable__control:checked~label.sk-toggleable__label-arrow:before {content: \"▾\";}#sk-container-id-1 div.sk-estimator input.sk-toggleable__control:checked~label.sk-toggleable__label {background-color: #d4ebff;}#sk-container-id-1 div.sk-label input.sk-toggleable__control:checked~label.sk-toggleable__label {background-color: #d4ebff;}#sk-container-id-1 input.sk-hidden--visually {border: 0;clip: rect(1px 1px 1px 1px);clip: rect(1px, 1px, 1px, 1px);height: 1px;margin: -1px;overflow: hidden;padding: 0;position: absolute;width: 1px;}#sk-container-id-1 div.sk-estimator {font-family: monospace;background-color: #f0f8ff;border: 1px dotted black;border-radius: 0.25em;box-sizing: border-box;margin-bottom: 0.5em;}#sk-container-id-1 div.sk-estimator:hover {background-color: #d4ebff;}#sk-container-id-1 div.sk-parallel-item::after {content: \"\";width: 100%;border-bottom: 1px solid gray;flex-grow: 1;}#sk-container-id-1 div.sk-label:hover label.sk-toggleable__label {background-color: #d4ebff;}#sk-container-id-1 div.sk-serial::before {content: \"\";position: absolute;border-left: 1px solid gray;box-sizing: border-box;top: 0;bottom: 0;left: 50%;z-index: 0;}#sk-container-id-1 div.sk-serial {display: flex;flex-direction: column;align-items: center;background-color: white;padding-right: 0.2em;padding-left: 0.2em;position: relative;}#sk-container-id-1 div.sk-item {position: relative;z-index: 1;}#sk-container-id-1 div.sk-parallel {display: flex;align-items: stretch;justify-content: center;background-color: white;position: relative;}#sk-container-id-1 div.sk-item::before, #sk-container-id-1 div.sk-parallel-item::before {content: \"\";position: absolute;border-left: 1px solid gray;box-sizing: border-box;top: 0;bottom: 0;left: 50%;z-index: -1;}#sk-container-id-1 div.sk-parallel-item {display: flex;flex-direction: column;z-index: 1;position: relative;background-color: white;}#sk-container-id-1 div.sk-parallel-item:first-child::after {align-self: flex-end;width: 50%;}#sk-container-id-1 div.sk-parallel-item:last-child::after {align-self: flex-start;width: 50%;}#sk-container-id-1 div.sk-parallel-item:only-child::after {width: 0;}#sk-container-id-1 div.sk-dashed-wrapped {border: 1px dashed gray;margin: 0 0.4em 0.5em 0.4em;box-sizing: border-box;padding-bottom: 0.4em;background-color: white;}#sk-container-id-1 div.sk-label label {font-family: monospace;font-weight: bold;display: inline-block;line-height: 1.2em;}#sk-container-id-1 div.sk-label-container {text-align: center;}#sk-container-id-1 div.sk-container {/* jupyter's `normalize.less` sets `[hidden] { display: none; }` but bootstrap.min.css set `[hidden] { display: none !important; }` so we also need the `!important` here to be able to override the default hidden behavior on the sphinx rendered scikit-learn.org. See: https://github.com/scikit-learn/scikit-learn/issues/21755 */display: inline-block !important;position: relative;}#sk-container-id-1 div.sk-text-repr-fallback {display: none;}</style><div id=\"sk-container-id-1\" class=\"sk-top-container\"><div class=\"sk-text-repr-fallback\"><pre>GridSearchCV(cv=5, estimator=LogisticRegression(solver=&#x27;newton-cg&#x27;),\n",
       "             param_grid=[{&#x27;class_weight&#x27;: [{&#x27;&lt;=50K&#x27;: 0.0, &#x27;&gt;50K&#x27;: 1.0},\n",
       "                                           {&#x27;&lt;=50K&#x27;: 0.004974874371859297,\n",
       "                                            &#x27;&gt;50K&#x27;: 0.9950251256281407},\n",
       "                                           {&#x27;&lt;=50K&#x27;: 0.009949748743718593,\n",
       "                                            &#x27;&gt;50K&#x27;: 0.9900502512562814},\n",
       "                                           {&#x27;&lt;=50K&#x27;: 0.014924623115577889,\n",
       "                                            &#x27;&gt;50K&#x27;: 0.9850753768844221},\n",
       "                                           {&#x27;&lt;=50K&#x27;: 0.019899497487437186,\n",
       "                                            &#x27;&gt;50K&#x27;: 0.9801005025125629},\n",
       "                                           {...\n",
       "                                            &#x27;&gt;50K&#x27;: 0.8806030150753769},\n",
       "                                           {&#x27;&lt;=50K&#x27;: 0.12437185929648241,\n",
       "                                            &#x27;&gt;50K&#x27;: 0.8756281407035176},\n",
       "                                           {&#x27;&lt;=50K&#x27;: 0.1293467336683417,\n",
       "                                            &#x27;&gt;50K&#x27;: 0.8706532663316583},\n",
       "                                           {&#x27;&lt;=50K&#x27;: 0.13432160804020102,\n",
       "                                            &#x27;&gt;50K&#x27;: 0.865678391959799},\n",
       "                                           {&#x27;&lt;=50K&#x27;: 0.1392964824120603,\n",
       "                                            &#x27;&gt;50K&#x27;: 0.8607035175879397},\n",
       "                                           {&#x27;&lt;=50K&#x27;: 0.1442713567839196,\n",
       "                                            &#x27;&gt;50K&#x27;: 0.8557286432160804}, ...]}],\n",
       "             scoring=make_scorer(f1_score, pos_label=&gt;50K))</pre><b>In a Jupyter environment, please rerun this cell to show the HTML representation or trust the notebook. <br />On GitHub, the HTML representation is unable to render, please try loading this page with nbviewer.org.</b></div><div class=\"sk-container\" hidden><div class=\"sk-item sk-dashed-wrapped\"><div class=\"sk-label-container\"><div class=\"sk-label sk-toggleable\"><input class=\"sk-toggleable__control sk-hidden--visually\" id=\"sk-estimator-id-1\" type=\"checkbox\" ><label for=\"sk-estimator-id-1\" class=\"sk-toggleable__label sk-toggleable__label-arrow\">GridSearchCV</label><div class=\"sk-toggleable__content\"><pre>GridSearchCV(cv=5, estimator=LogisticRegression(solver=&#x27;newton-cg&#x27;),\n",
       "             param_grid=[{&#x27;class_weight&#x27;: [{&#x27;&lt;=50K&#x27;: 0.0, &#x27;&gt;50K&#x27;: 1.0},\n",
       "                                           {&#x27;&lt;=50K&#x27;: 0.004974874371859297,\n",
       "                                            &#x27;&gt;50K&#x27;: 0.9950251256281407},\n",
       "                                           {&#x27;&lt;=50K&#x27;: 0.009949748743718593,\n",
       "                                            &#x27;&gt;50K&#x27;: 0.9900502512562814},\n",
       "                                           {&#x27;&lt;=50K&#x27;: 0.014924623115577889,\n",
       "                                            &#x27;&gt;50K&#x27;: 0.9850753768844221},\n",
       "                                           {&#x27;&lt;=50K&#x27;: 0.019899497487437186,\n",
       "                                            &#x27;&gt;50K&#x27;: 0.9801005025125629},\n",
       "                                           {...\n",
       "                                            &#x27;&gt;50K&#x27;: 0.8806030150753769},\n",
       "                                           {&#x27;&lt;=50K&#x27;: 0.12437185929648241,\n",
       "                                            &#x27;&gt;50K&#x27;: 0.8756281407035176},\n",
       "                                           {&#x27;&lt;=50K&#x27;: 0.1293467336683417,\n",
       "                                            &#x27;&gt;50K&#x27;: 0.8706532663316583},\n",
       "                                           {&#x27;&lt;=50K&#x27;: 0.13432160804020102,\n",
       "                                            &#x27;&gt;50K&#x27;: 0.865678391959799},\n",
       "                                           {&#x27;&lt;=50K&#x27;: 0.1392964824120603,\n",
       "                                            &#x27;&gt;50K&#x27;: 0.8607035175879397},\n",
       "                                           {&#x27;&lt;=50K&#x27;: 0.1442713567839196,\n",
       "                                            &#x27;&gt;50K&#x27;: 0.8557286432160804}, ...]}],\n",
       "             scoring=make_scorer(f1_score, pos_label=&gt;50K))</pre></div></div></div><div class=\"sk-parallel\"><div class=\"sk-parallel-item\"><div class=\"sk-item\"><div class=\"sk-label-container\"><div class=\"sk-label sk-toggleable\"><input class=\"sk-toggleable__control sk-hidden--visually\" id=\"sk-estimator-id-2\" type=\"checkbox\" ><label for=\"sk-estimator-id-2\" class=\"sk-toggleable__label sk-toggleable__label-arrow\">estimator: LogisticRegression</label><div class=\"sk-toggleable__content\"><pre>LogisticRegression(solver=&#x27;newton-cg&#x27;)</pre></div></div></div><div class=\"sk-serial\"><div class=\"sk-item\"><div class=\"sk-estimator sk-toggleable\"><input class=\"sk-toggleable__control sk-hidden--visually\" id=\"sk-estimator-id-3\" type=\"checkbox\" ><label for=\"sk-estimator-id-3\" class=\"sk-toggleable__label sk-toggleable__label-arrow\">LogisticRegression</label><div class=\"sk-toggleable__content\"><pre>LogisticRegression(solver=&#x27;newton-cg&#x27;)</pre></div></div></div></div></div></div></div></div></div></div>"
      ],
      "text/plain": [
       "GridSearchCV(cv=5, estimator=LogisticRegression(solver='newton-cg'),\n",
       "             param_grid=[{'class_weight': [{'<=50K': 0.0, '>50K': 1.0},\n",
       "                                           {'<=50K': 0.004974874371859297,\n",
       "                                            '>50K': 0.9950251256281407},\n",
       "                                           {'<=50K': 0.009949748743718593,\n",
       "                                            '>50K': 0.9900502512562814},\n",
       "                                           {'<=50K': 0.014924623115577889,\n",
       "                                            '>50K': 0.9850753768844221},\n",
       "                                           {'<=50K': 0.019899497487437186,\n",
       "                                            '>50K': 0.9801005025125629},\n",
       "                                           {...\n",
       "                                            '>50K': 0.8806030150753769},\n",
       "                                           {'<=50K': 0.12437185929648241,\n",
       "                                            '>50K': 0.8756281407035176},\n",
       "                                           {'<=50K': 0.1293467336683417,\n",
       "                                            '>50K': 0.8706532663316583},\n",
       "                                           {'<=50K': 0.13432160804020102,\n",
       "                                            '>50K': 0.865678391959799},\n",
       "                                           {'<=50K': 0.1392964824120603,\n",
       "                                            '>50K': 0.8607035175879397},\n",
       "                                           {'<=50K': 0.1442713567839196,\n",
       "                                            '>50K': 0.8557286432160804}, ...]}],\n",
       "             scoring=make_scorer(f1_score, pos_label=>50K))"
      ]
     },
     "execution_count": 298,
     "metadata": {},
     "output_type": "execute_result"
    }
   ],
   "source": [
    "gridsearch"
   ]
  },
  {
   "cell_type": "code",
   "execution_count": 299,
   "id": "5ec7838d",
   "metadata": {},
   "outputs": [],
   "source": [
    "#Naive Bayes algorithm "
   ]
  },
  {
   "cell_type": "code",
   "execution_count": 300,
   "id": "82f077ef",
   "metadata": {},
   "outputs": [],
   "source": [
    "from sklearn.naive_bayes import GaussianNB\n",
    "classifier = GaussianNB()\n",
    "classifier.fit(X_train, y_train)\n",
    "accuracy_nb=classifier.score(X_train, y_train)"
   ]
  },
  {
   "cell_type": "code",
   "execution_count": 301,
   "id": "9035c382",
   "metadata": {},
   "outputs": [
    {
     "data": {
      "text/plain": [
       "0.6517432136884086"
      ]
     },
     "execution_count": 301,
     "metadata": {},
     "output_type": "execute_result"
    }
   ],
   "source": [
    "accuracy_nb"
   ]
  },
  {
   "cell_type": "markdown",
   "id": "cc6474da",
   "metadata": {},
   "source": [
    "# Testing on Deep Learning model"
   ]
  },
  {
   "cell_type": "code",
   "execution_count": 334,
   "id": "4caa9aeb",
   "metadata": {},
   "outputs": [
    {
     "data": {
      "text/plain": [
       "23319"
      ]
     },
     "execution_count": 334,
     "metadata": {},
     "output_type": "execute_result"
    }
   ],
   "source": [
    "X_train.shape[0]"
   ]
  },
  {
   "cell_type": "code",
   "execution_count": 352,
   "id": "3308dc82",
   "metadata": {},
   "outputs": [],
   "source": [
    "from tensorflow import keras\n",
    "from tensorflow.keras import layers\n",
    "\n",
    "model = keras.Sequential([\n",
    "    layers.Dense(120, activation='relu', input_shape=[47]),\n",
    "    layers.Dense(120, activation='relu'), \n",
    "    layers.Dense(120, activation='relu'), \n",
    "    layers.Dense(1, activation='sigmoid')\n",
    "])"
   ]
  },
  {
   "cell_type": "code",
   "execution_count": 353,
   "id": "2fdfbd04",
   "metadata": {},
   "outputs": [],
   "source": [
    "model.compile(\n",
    "    optimizer='adam',\n",
    "    loss='binary_crossentropy'\n",
    ")"
   ]
  },
  {
   "cell_type": "code",
   "execution_count": 354,
   "id": "4995a67d",
   "metadata": {},
   "outputs": [],
   "source": [
    "keras.utils.set_random_seed(1)\n",
    "\n",
    "early_stopping = keras.callbacks.EarlyStopping(\n",
    "    patience=10,\n",
    "    min_delta=0.001,\n",
    "    restore_best_weights=True,\n",
    ")"
   ]
  },
  {
   "cell_type": "code",
   "execution_count": 344,
   "id": "31140ba8",
   "metadata": {},
   "outputs": [
    {
     "data": {
      "text/plain": [
       "23319"
      ]
     },
     "execution_count": 344,
     "metadata": {},
     "output_type": "execute_result"
    }
   ],
   "source": [
    "len(X_train)"
   ]
  },
  {
   "cell_type": "code",
   "execution_count": 345,
   "id": "bab5ac39",
   "metadata": {},
   "outputs": [],
   "source": [
    "y_train = y_train.replace({'>50K':1.0,'<=50K':0.0})"
   ]
  },
  {
   "cell_type": "code",
   "execution_count": 348,
   "id": "e870ef45",
   "metadata": {},
   "outputs": [],
   "source": [
    "y_train = y_train.T"
   ]
  },
  {
   "cell_type": "code",
   "execution_count": 358,
   "id": "5da55ef6",
   "metadata": {},
   "outputs": [],
   "source": [
    "X_train = X_train.T"
   ]
  },
  {
   "cell_type": "code",
   "execution_count": 359,
   "id": "f4aec43a",
   "metadata": {},
   "outputs": [
    {
     "data": {
      "text/plain": [
       "23319"
      ]
     },
     "execution_count": 359,
     "metadata": {},
     "output_type": "execute_result"
    }
   ],
   "source": [
    "len(X_train)"
   ]
  },
  {
   "cell_type": "code",
   "execution_count": 360,
   "id": "75f44748",
   "metadata": {},
   "outputs": [
    {
     "name": "stdout",
     "output_type": "stream",
     "text": [
      "Epoch 1/100\n",
      "39/46 [========================>.....] - ETA: 0s - loss: 0.4632WARNING:tensorflow:Early stopping conditioned on metric `val_loss` which is not available. Available metrics are: loss\n",
      "46/46 [==============================] - 2s 7ms/step - loss: 0.4476\n",
      "Epoch 2/100\n",
      "46/46 [==============================] - ETA: 0s - loss: 0.3321WARNING:tensorflow:Early stopping conditioned on metric `val_loss` which is not available. Available metrics are: loss\n",
      "46/46 [==============================] - 0s 8ms/step - loss: 0.3321\n",
      "Epoch 3/100\n",
      "43/46 [===========================>..] - ETA: 0s - loss: 0.3274WARNING:tensorflow:Early stopping conditioned on metric `val_loss` which is not available. Available metrics are: loss\n",
      "46/46 [==============================] - 0s 8ms/step - loss: 0.3271\n",
      "Epoch 4/100\n",
      "41/46 [=========================>....] - ETA: 0s - loss: 0.3188WARNING:tensorflow:Early stopping conditioned on metric `val_loss` which is not available. Available metrics are: loss\n",
      "46/46 [==============================] - 0s 6ms/step - loss: 0.3224\n",
      "Epoch 5/100\n",
      "46/46 [==============================] - ETA: 0s - loss: 0.3194WARNING:tensorflow:Early stopping conditioned on metric `val_loss` which is not available. Available metrics are: loss\n",
      "46/46 [==============================] - 0s 7ms/step - loss: 0.3194\n",
      "Epoch 6/100\n",
      "39/46 [========================>.....] - ETA: 0s - loss: 0.3189WARNING:tensorflow:Early stopping conditioned on metric `val_loss` which is not available. Available metrics are: loss\n",
      "46/46 [==============================] - 0s 8ms/step - loss: 0.3170\n",
      "Epoch 7/100\n",
      "40/46 [=========================>....] - ETA: 0s - loss: 0.3178WARNING:tensorflow:Early stopping conditioned on metric `val_loss` which is not available. Available metrics are: loss\n",
      "46/46 [==============================] - 0s 6ms/step - loss: 0.3156\n",
      "Epoch 8/100\n",
      "44/46 [===========================>..] - ETA: 0s - loss: 0.3134WARNING:tensorflow:Early stopping conditioned on metric `val_loss` which is not available. Available metrics are: loss\n",
      "46/46 [==============================] - 0s 8ms/step - loss: 0.3136\n",
      "Epoch 9/100\n",
      "44/46 [===========================>..] - ETA: 0s - loss: 0.3161WARNING:tensorflow:Early stopping conditioned on metric `val_loss` which is not available. Available metrics are: loss\n",
      "46/46 [==============================] - 0s 8ms/step - loss: 0.3162\n",
      "Epoch 10/100\n",
      "45/46 [============================>.] - ETA: 0s - loss: 0.3108WARNING:tensorflow:Early stopping conditioned on metric `val_loss` which is not available. Available metrics are: loss\n",
      "46/46 [==============================] - 0s 9ms/step - loss: 0.3110\n",
      "Epoch 11/100\n",
      "39/46 [========================>.....] - ETA: 0s - loss: 0.3081WARNING:tensorflow:Early stopping conditioned on metric `val_loss` which is not available. Available metrics are: loss\n",
      "46/46 [==============================] - 0s 9ms/step - loss: 0.3071\n",
      "Epoch 12/100\n",
      "44/46 [===========================>..] - ETA: 0s - loss: 0.3079WARNING:tensorflow:Early stopping conditioned on metric `val_loss` which is not available. Available metrics are: loss\n",
      "46/46 [==============================] - 0s 8ms/step - loss: 0.3080\n",
      "Epoch 13/100\n",
      "42/46 [==========================>...] - ETA: 0s - loss: 0.3040WARNING:tensorflow:Early stopping conditioned on metric `val_loss` which is not available. Available metrics are: loss\n",
      "46/46 [==============================] - 0s 10ms/step - loss: 0.3034\n",
      "Epoch 14/100\n",
      "44/46 [===========================>..] - ETA: 0s - loss: 0.3017WARNING:tensorflow:Early stopping conditioned on metric `val_loss` which is not available. Available metrics are: loss\n",
      "46/46 [==============================] - 0s 6ms/step - loss: 0.3021\n",
      "Epoch 15/100\n",
      "46/46 [==============================] - ETA: 0s - loss: 0.3031WARNING:tensorflow:Early stopping conditioned on metric `val_loss` which is not available. Available metrics are: loss\n",
      "46/46 [==============================] - 0s 7ms/step - loss: 0.3031\n",
      "Epoch 16/100\n",
      "41/46 [=========================>....] - ETA: 0s - loss: 0.2976WARNING:tensorflow:Early stopping conditioned on metric `val_loss` which is not available. Available metrics are: loss\n",
      "46/46 [==============================] - 0s 7ms/step - loss: 0.2978\n",
      "Epoch 17/100\n",
      "42/46 [==========================>...] - ETA: 0s - loss: 0.2967WARNING:tensorflow:Early stopping conditioned on metric `val_loss` which is not available. Available metrics are: loss\n",
      "46/46 [==============================] - 0s 5ms/step - loss: 0.2961\n",
      "Epoch 18/100\n",
      "40/46 [=========================>....] - ETA: 0s - loss: 0.2935WARNING:tensorflow:Early stopping conditioned on metric `val_loss` which is not available. Available metrics are: loss\n",
      "46/46 [==============================] - 0s 7ms/step - loss: 0.2935\n",
      "Epoch 19/100\n",
      "43/46 [===========================>..] - ETA: 0s - loss: 0.2936WARNING:tensorflow:Early stopping conditioned on metric `val_loss` which is not available. Available metrics are: loss\n",
      "46/46 [==============================] - 0s 10ms/step - loss: 0.2938\n",
      "Epoch 20/100\n",
      "45/46 [============================>.] - ETA: 0s - loss: 0.2916WARNING:tensorflow:Early stopping conditioned on metric `val_loss` which is not available. Available metrics are: loss\n",
      "46/46 [==============================] - 0s 11ms/step - loss: 0.2916\n",
      "Epoch 21/100\n",
      "46/46 [==============================] - ETA: 0s - loss: 0.2903WARNING:tensorflow:Early stopping conditioned on metric `val_loss` which is not available. Available metrics are: loss\n",
      "46/46 [==============================] - 0s 6ms/step - loss: 0.2903\n",
      "Epoch 22/100\n",
      "41/46 [=========================>....] - ETA: 0s - loss: 0.2919WARNING:tensorflow:Early stopping conditioned on metric `val_loss` which is not available. Available metrics are: loss\n",
      "46/46 [==============================] - 0s 7ms/step - loss: 0.2920\n",
      "Epoch 23/100\n",
      "33/46 [====================>.........] - ETA: 0s - loss: 0.2919WARNING:tensorflow:Early stopping conditioned on metric `val_loss` which is not available. Available metrics are: loss\n",
      "46/46 [==============================] - 0s 6ms/step - loss: 0.2881\n",
      "Epoch 24/100\n",
      "32/46 [===================>..........] - ETA: 0s - loss: 0.2889WARNING:tensorflow:Early stopping conditioned on metric `val_loss` which is not available. Available metrics are: loss\n",
      "46/46 [==============================] - 0s 3ms/step - loss: 0.2885\n",
      "Epoch 25/100\n",
      "38/46 [=======================>......] - ETA: 0s - loss: 0.2871WARNING:tensorflow:Early stopping conditioned on metric `val_loss` which is not available. Available metrics are: loss\n",
      "46/46 [==============================] - 0s 4ms/step - loss: 0.2858\n",
      "Epoch 26/100\n",
      "46/46 [==============================] - ETA: 0s - loss: 0.2884WARNING:tensorflow:Early stopping conditioned on metric `val_loss` which is not available. Available metrics are: loss\n",
      "46/46 [==============================] - 0s 5ms/step - loss: 0.2884\n",
      "Epoch 27/100\n",
      "36/46 [======================>.......] - ETA: 0s - loss: 0.2849WARNING:tensorflow:Early stopping conditioned on metric `val_loss` which is not available. Available metrics are: loss\n",
      "46/46 [==============================] - 0s 4ms/step - loss: 0.2843\n",
      "Epoch 28/100\n",
      "43/46 [===========================>..] - ETA: 0s - loss: 0.2823WARNING:tensorflow:Early stopping conditioned on metric `val_loss` which is not available. Available metrics are: loss\n",
      "46/46 [==============================] - 0s 5ms/step - loss: 0.2826\n",
      "Epoch 29/100\n",
      "44/46 [===========================>..] - ETA: 0s - loss: 0.2823WARNING:tensorflow:Early stopping conditioned on metric `val_loss` which is not available. Available metrics are: loss\n",
      "46/46 [==============================] - 0s 5ms/step - loss: 0.2822\n",
      "Epoch 30/100\n",
      "46/46 [==============================] - ETA: 0s - loss: 0.2795WARNING:tensorflow:Early stopping conditioned on metric `val_loss` which is not available. Available metrics are: loss\n",
      "46/46 [==============================] - 0s 6ms/step - loss: 0.2795\n",
      "Epoch 31/100\n",
      "46/46 [==============================] - ETA: 0s - loss: 0.2786WARNING:tensorflow:Early stopping conditioned on metric `val_loss` which is not available. Available metrics are: loss\n",
      "46/46 [==============================] - 1s 13ms/step - loss: 0.2786\n",
      "Epoch 32/100\n"
     ]
    },
    {
     "name": "stdout",
     "output_type": "stream",
     "text": [
      "42/46 [==========================>...] - ETA: 0s - loss: 0.2800WARNING:tensorflow:Early stopping conditioned on metric `val_loss` which is not available. Available metrics are: loss\n",
      "46/46 [==============================] - 0s 7ms/step - loss: 0.2791\n",
      "Epoch 33/100\n",
      "39/46 [========================>.....] - ETA: 0s - loss: 0.2758WARNING:tensorflow:Early stopping conditioned on metric `val_loss` which is not available. Available metrics are: loss\n",
      "46/46 [==============================] - 0s 6ms/step - loss: 0.2783\n",
      "Epoch 34/100\n",
      "39/46 [========================>.....] - ETA: 0s - loss: 0.2738WARNING:tensorflow:Early stopping conditioned on metric `val_loss` which is not available. Available metrics are: loss\n",
      "46/46 [==============================] - 0s 7ms/step - loss: 0.2751\n",
      "Epoch 35/100\n",
      "46/46 [==============================] - ETA: 0s - loss: 0.2782WARNING:tensorflow:Early stopping conditioned on metric `val_loss` which is not available. Available metrics are: loss\n",
      "46/46 [==============================] - 0s 6ms/step - loss: 0.2782\n",
      "Epoch 36/100\n",
      "41/46 [=========================>....] - ETA: 0s - loss: 0.2735WARNING:tensorflow:Early stopping conditioned on metric `val_loss` which is not available. Available metrics are: loss\n",
      "46/46 [==============================] - 0s 5ms/step - loss: 0.2738\n",
      "Epoch 37/100\n",
      "41/46 [=========================>....] - ETA: 0s - loss: 0.2718WARNING:tensorflow:Early stopping conditioned on metric `val_loss` which is not available. Available metrics are: loss\n",
      "46/46 [==============================] - 0s 5ms/step - loss: 0.2725\n",
      "Epoch 38/100\n",
      "43/46 [===========================>..] - ETA: 0s - loss: 0.2705WARNING:tensorflow:Early stopping conditioned on metric `val_loss` which is not available. Available metrics are: loss\n",
      "46/46 [==============================] - 0s 4ms/step - loss: 0.2715\n",
      "Epoch 39/100\n",
      "43/46 [===========================>..] - ETA: 0s - loss: 0.2722WARNING:tensorflow:Early stopping conditioned on metric `val_loss` which is not available. Available metrics are: loss\n",
      "46/46 [==============================] - 0s 4ms/step - loss: 0.2709\n",
      "Epoch 40/100\n",
      "45/46 [============================>.] - ETA: 0s - loss: 0.2689WARNING:tensorflow:Early stopping conditioned on metric `val_loss` which is not available. Available metrics are: loss\n",
      "46/46 [==============================] - 0s 5ms/step - loss: 0.2688\n",
      "Epoch 41/100\n",
      "42/46 [==========================>...] - ETA: 0s - loss: 0.2684WARNING:tensorflow:Early stopping conditioned on metric `val_loss` which is not available. Available metrics are: loss\n",
      "46/46 [==============================] - 0s 5ms/step - loss: 0.2680\n",
      "Epoch 42/100\n",
      "44/46 [===========================>..] - ETA: 0s - loss: 0.2703WARNING:tensorflow:Early stopping conditioned on metric `val_loss` which is not available. Available metrics are: loss\n",
      "46/46 [==============================] - 1s 20ms/step - loss: 0.2711\n",
      "Epoch 43/100\n",
      "42/46 [==========================>...] - ETA: 0s - loss: 0.2661WARNING:tensorflow:Early stopping conditioned on metric `val_loss` which is not available. Available metrics are: loss\n",
      "46/46 [==============================] - 1s 14ms/step - loss: 0.2678\n",
      "Epoch 44/100\n",
      "46/46 [==============================] - ETA: 0s - loss: 0.2647WARNING:tensorflow:Early stopping conditioned on metric `val_loss` which is not available. Available metrics are: loss\n",
      "46/46 [==============================] - 1s 27ms/step - loss: 0.2647\n",
      "Epoch 45/100\n",
      "46/46 [==============================] - ETA: 0s - loss: 0.2643WARNING:tensorflow:Early stopping conditioned on metric `val_loss` which is not available. Available metrics are: loss\n",
      "46/46 [==============================] - 1s 13ms/step - loss: 0.2643\n",
      "Epoch 46/100\n",
      "42/46 [==========================>...] - ETA: 0s - loss: 0.2636WARNING:tensorflow:Early stopping conditioned on metric `val_loss` which is not available. Available metrics are: loss\n",
      "46/46 [==============================] - 0s 8ms/step - loss: 0.2637\n",
      "Epoch 47/100\n",
      "44/46 [===========================>..] - ETA: 0s - loss: 0.2645WARNING:tensorflow:Early stopping conditioned on metric `val_loss` which is not available. Available metrics are: loss\n",
      "46/46 [==============================] - 0s 8ms/step - loss: 0.2642\n",
      "Epoch 48/100\n",
      "43/46 [===========================>..] - ETA: 0s - loss: 0.2632WARNING:tensorflow:Early stopping conditioned on metric `val_loss` which is not available. Available metrics are: loss\n",
      "46/46 [==============================] - 0s 7ms/step - loss: 0.2621\n",
      "Epoch 49/100\n",
      "45/46 [============================>.] - ETA: 0s - loss: 0.2594WARNING:tensorflow:Early stopping conditioned on metric `val_loss` which is not available. Available metrics are: loss\n",
      "46/46 [==============================] - 0s 8ms/step - loss: 0.2597\n",
      "Epoch 50/100\n",
      "41/46 [=========================>....] - ETA: 0s - loss: 0.2610WARNING:tensorflow:Early stopping conditioned on metric `val_loss` which is not available. Available metrics are: loss\n",
      "46/46 [==============================] - 0s 7ms/step - loss: 0.2613\n",
      "Epoch 51/100\n",
      "45/46 [============================>.] - ETA: 0s - loss: 0.2591WARNING:tensorflow:Early stopping conditioned on metric `val_loss` which is not available. Available metrics are: loss\n",
      "46/46 [==============================] - 0s 6ms/step - loss: 0.2591\n",
      "Epoch 52/100\n",
      "38/46 [=======================>......] - ETA: 0s - loss: 0.2593WARNING:tensorflow:Early stopping conditioned on metric `val_loss` which is not available. Available metrics are: loss\n",
      "46/46 [==============================] - 0s 6ms/step - loss: 0.2591\n",
      "Epoch 53/100\n",
      "40/46 [=========================>....] - ETA: 0s - loss: 0.2546WARNING:tensorflow:Early stopping conditioned on metric `val_loss` which is not available. Available metrics are: loss\n",
      "46/46 [==============================] - 0s 4ms/step - loss: 0.2578\n",
      "Epoch 54/100\n",
      "43/46 [===========================>..] - ETA: 0s - loss: 0.2527WARNING:tensorflow:Early stopping conditioned on metric `val_loss` which is not available. Available metrics are: loss\n",
      "46/46 [==============================] - 0s 10ms/step - loss: 0.2540\n",
      "Epoch 55/100\n",
      "42/46 [==========================>...] - ETA: 0s - loss: 0.2541WARNING:tensorflow:Early stopping conditioned on metric `val_loss` which is not available. Available metrics are: loss\n",
      "46/46 [==============================] - 1s 22ms/step - loss: 0.2552\n",
      "Epoch 56/100\n",
      "41/46 [=========================>....] - ETA: 0s - loss: 0.2534WARNING:tensorflow:Early stopping conditioned on metric `val_loss` which is not available. Available metrics are: loss\n",
      "46/46 [==============================] - 0s 7ms/step - loss: 0.2535\n",
      "Epoch 57/100\n",
      "41/46 [=========================>....] - ETA: 0s - loss: 0.2539WARNING:tensorflow:Early stopping conditioned on metric `val_loss` which is not available. Available metrics are: loss\n",
      "46/46 [==============================] - 1s 12ms/step - loss: 0.2540\n",
      "Epoch 58/100\n",
      "42/46 [==========================>...] - ETA: 0s - loss: 0.2513WARNING:tensorflow:Early stopping conditioned on metric `val_loss` which is not available. Available metrics are: loss\n",
      "46/46 [==============================] - 0s 6ms/step - loss: 0.2518\n",
      "Epoch 59/100\n",
      "42/46 [==========================>...] - ETA: 0s - loss: 0.2516WARNING:tensorflow:Early stopping conditioned on metric `val_loss` which is not available. Available metrics are: loss\n",
      "46/46 [==============================] - 0s 8ms/step - loss: 0.2512\n",
      "Epoch 60/100\n",
      "43/46 [===========================>..] - ETA: 0s - loss: 0.2474WARNING:tensorflow:Early stopping conditioned on metric `val_loss` which is not available. Available metrics are: loss\n",
      "46/46 [==============================] - 0s 11ms/step - loss: 0.2487\n",
      "Epoch 61/100\n",
      "44/46 [===========================>..] - ETA: 0s - loss: 0.2505WARNING:tensorflow:Early stopping conditioned on metric `val_loss` which is not available. Available metrics are: loss\n",
      "46/46 [==============================] - 0s 9ms/step - loss: 0.2496\n",
      "Epoch 62/100\n",
      "46/46 [==============================] - ETA: 0s - loss: 0.2521WARNING:tensorflow:Early stopping conditioned on metric `val_loss` which is not available. Available metrics are: loss\n",
      "46/46 [==============================] - 0s 8ms/step - loss: 0.2521\n",
      "Epoch 63/100\n"
     ]
    },
    {
     "name": "stdout",
     "output_type": "stream",
     "text": [
      "40/46 [=========================>....] - ETA: 0s - loss: 0.2483WARNING:tensorflow:Early stopping conditioned on metric `val_loss` which is not available. Available metrics are: loss\n",
      "46/46 [==============================] - 0s 7ms/step - loss: 0.2485\n",
      "Epoch 64/100\n",
      "39/46 [========================>.....] - ETA: 0s - loss: 0.2457WARNING:tensorflow:Early stopping conditioned on metric `val_loss` which is not available. Available metrics are: loss\n",
      "46/46 [==============================] - 0s 8ms/step - loss: 0.2449\n",
      "Epoch 65/100\n",
      "43/46 [===========================>..] - ETA: 0s - loss: 0.2463WARNING:tensorflow:Early stopping conditioned on metric `val_loss` which is not available. Available metrics are: loss\n",
      "46/46 [==============================] - 1s 13ms/step - loss: 0.2460\n",
      "Epoch 66/100\n",
      "39/46 [========================>.....] - ETA: 0s - loss: 0.2432WARNING:tensorflow:Early stopping conditioned on metric `val_loss` which is not available. Available metrics are: loss\n",
      "46/46 [==============================] - 0s 5ms/step - loss: 0.2434\n",
      "Epoch 67/100\n",
      "37/46 [=======================>......] - ETA: 0s - loss: 0.2399WARNING:tensorflow:Early stopping conditioned on metric `val_loss` which is not available. Available metrics are: loss\n",
      "46/46 [==============================] - 0s 4ms/step - loss: 0.2419\n",
      "Epoch 68/100\n",
      "37/46 [=======================>......] - ETA: 0s - loss: 0.2410WARNING:tensorflow:Early stopping conditioned on metric `val_loss` which is not available. Available metrics are: loss\n",
      "46/46 [==============================] - 0s 4ms/step - loss: 0.2408\n",
      "Epoch 69/100\n",
      "45/46 [============================>.] - ETA: 0s - loss: 0.2411WARNING:tensorflow:Early stopping conditioned on metric `val_loss` which is not available. Available metrics are: loss\n",
      "46/46 [==============================] - 0s 5ms/step - loss: 0.2414\n",
      "Epoch 70/100\n",
      "44/46 [===========================>..] - ETA: 0s - loss: 0.2423WARNING:tensorflow:Early stopping conditioned on metric `val_loss` which is not available. Available metrics are: loss\n",
      "46/46 [==============================] - 0s 5ms/step - loss: 0.2424\n",
      "Epoch 71/100\n",
      "36/46 [======================>.......] - ETA: 0s - loss: 0.2435WARNING:tensorflow:Early stopping conditioned on metric `val_loss` which is not available. Available metrics are: loss\n",
      "46/46 [==============================] - 0s 5ms/step - loss: 0.2439\n",
      "Epoch 72/100\n",
      "37/46 [=======================>......] - ETA: 0s - loss: 0.2382WARNING:tensorflow:Early stopping conditioned on metric `val_loss` which is not available. Available metrics are: loss\n",
      "46/46 [==============================] - 0s 4ms/step - loss: 0.2386\n",
      "Epoch 73/100\n",
      "36/46 [======================>.......] - ETA: 0s - loss: 0.2376WARNING:tensorflow:Early stopping conditioned on metric `val_loss` which is not available. Available metrics are: loss\n",
      "46/46 [==============================] - 0s 5ms/step - loss: 0.2378\n",
      "Epoch 74/100\n",
      "39/46 [========================>.....] - ETA: 0s - loss: 0.2359WARNING:tensorflow:Early stopping conditioned on metric `val_loss` which is not available. Available metrics are: loss\n",
      "46/46 [==============================] - 0s 6ms/step - loss: 0.2365\n",
      "Epoch 75/100\n",
      "38/46 [=======================>......] - ETA: 0s - loss: 0.2329WARNING:tensorflow:Early stopping conditioned on metric `val_loss` which is not available. Available metrics are: loss\n",
      "46/46 [==============================] - 0s 6ms/step - loss: 0.2339\n",
      "Epoch 76/100\n",
      "37/46 [=======================>......] - ETA: 0s - loss: 0.2318WARNING:tensorflow:Early stopping conditioned on metric `val_loss` which is not available. Available metrics are: loss\n",
      "46/46 [==============================] - 0s 4ms/step - loss: 0.2339\n",
      "Epoch 77/100\n",
      "37/46 [=======================>......] - ETA: 0s - loss: 0.2335WARNING:tensorflow:Early stopping conditioned on metric `val_loss` which is not available. Available metrics are: loss\n",
      "46/46 [==============================] - 0s 4ms/step - loss: 0.2337\n",
      "Epoch 78/100\n",
      "45/46 [============================>.] - ETA: 0s - loss: 0.2309WARNING:tensorflow:Early stopping conditioned on metric `val_loss` which is not available. Available metrics are: loss\n",
      "46/46 [==============================] - 0s 9ms/step - loss: 0.2304\n",
      "Epoch 79/100\n",
      "43/46 [===========================>..] - ETA: 0s - loss: 0.2315WARNING:tensorflow:Early stopping conditioned on metric `val_loss` which is not available. Available metrics are: loss\n",
      "46/46 [==============================] - 1s 15ms/step - loss: 0.2313\n",
      "Epoch 80/100\n",
      "42/46 [==========================>...] - ETA: 0s - loss: 0.2307WARNING:tensorflow:Early stopping conditioned on metric `val_loss` which is not available. Available metrics are: loss\n",
      "46/46 [==============================] - 0s 6ms/step - loss: 0.2325\n",
      "Epoch 81/100\n",
      "46/46 [==============================] - ETA: 0s - loss: 0.2309WARNING:tensorflow:Early stopping conditioned on metric `val_loss` which is not available. Available metrics are: loss\n",
      "46/46 [==============================] - 1s 10ms/step - loss: 0.2309\n",
      "Epoch 82/100\n",
      "40/46 [=========================>....] - ETA: 0s - loss: 0.2276WARNING:tensorflow:Early stopping conditioned on metric `val_loss` which is not available. Available metrics are: loss\n",
      "46/46 [==============================] - 0s 7ms/step - loss: 0.2291\n",
      "Epoch 83/100\n",
      "46/46 [==============================] - ETA: 0s - loss: 0.2274WARNING:tensorflow:Early stopping conditioned on metric `val_loss` which is not available. Available metrics are: loss\n",
      "46/46 [==============================] - 0s 9ms/step - loss: 0.2274\n",
      "Epoch 84/100\n",
      "42/46 [==========================>...] - ETA: 0s - loss: 0.2285WARNING:tensorflow:Early stopping conditioned on metric `val_loss` which is not available. Available metrics are: loss\n",
      "46/46 [==============================] - 1s 12ms/step - loss: 0.2283\n",
      "Epoch 85/100\n",
      "41/46 [=========================>....] - ETA: 0s - loss: 0.2252WARNING:tensorflow:Early stopping conditioned on metric `val_loss` which is not available. Available metrics are: loss\n",
      "46/46 [==============================] - 0s 10ms/step - loss: 0.2253\n",
      "Epoch 86/100\n",
      "44/46 [===========================>..] - ETA: 0s - loss: 0.2231WARNING:tensorflow:Early stopping conditioned on metric `val_loss` which is not available. Available metrics are: loss\n",
      "46/46 [==============================] - 0s 8ms/step - loss: 0.2235\n",
      "Epoch 87/100\n",
      "44/46 [===========================>..] - ETA: 0s - loss: 0.2243WARNING:tensorflow:Early stopping conditioned on metric `val_loss` which is not available. Available metrics are: loss\n",
      "46/46 [==============================] - 0s 6ms/step - loss: 0.2249\n",
      "Epoch 88/100\n",
      "41/46 [=========================>....] - ETA: 0s - loss: 0.2230WARNING:tensorflow:Early stopping conditioned on metric `val_loss` which is not available. Available metrics are: loss\n",
      "46/46 [==============================] - 0s 11ms/step - loss: 0.2234\n",
      "Epoch 89/100\n",
      "43/46 [===========================>..] - ETA: 0s - loss: 0.2280WARNING:tensorflow:Early stopping conditioned on metric `val_loss` which is not available. Available metrics are: loss\n",
      "46/46 [==============================] - 0s 9ms/step - loss: 0.2277\n",
      "Epoch 90/100\n",
      "39/46 [========================>.....] - ETA: 0s - loss: 0.2232WARNING:tensorflow:Early stopping conditioned on metric `val_loss` which is not available. Available metrics are: loss\n",
      "46/46 [==============================] - 0s 9ms/step - loss: 0.2233\n",
      "Epoch 91/100\n",
      "40/46 [=========================>....] - ETA: 0s - loss: 0.2206WARNING:tensorflow:Early stopping conditioned on metric `val_loss` which is not available. Available metrics are: loss\n",
      "46/46 [==============================] - 1s 13ms/step - loss: 0.2225\n",
      "Epoch 92/100\n",
      "43/46 [===========================>..] - ETA: 0s - loss: 0.2199WARNING:tensorflow:Early stopping conditioned on metric `val_loss` which is not available. Available metrics are: loss\n",
      "46/46 [==============================] - 0s 10ms/step - loss: 0.2194\n",
      "Epoch 93/100\n",
      "45/46 [============================>.] - ETA: 0s - loss: 0.2201WARNING:tensorflow:Early stopping conditioned on metric `val_loss` which is not available. Available metrics are: loss\n",
      "46/46 [==============================] - 0s 9ms/step - loss: 0.2202\n",
      "Epoch 94/100\n"
     ]
    },
    {
     "name": "stdout",
     "output_type": "stream",
     "text": [
      "44/46 [===========================>..] - ETA: 0s - loss: 0.2189WARNING:tensorflow:Early stopping conditioned on metric `val_loss` which is not available. Available metrics are: loss\n",
      "46/46 [==============================] - 1s 12ms/step - loss: 0.2185\n",
      "Epoch 95/100\n",
      "37/46 [=======================>......] - ETA: 0s - loss: 0.2181WARNING:tensorflow:Early stopping conditioned on metric `val_loss` which is not available. Available metrics are: loss\n",
      "46/46 [==============================] - 0s 8ms/step - loss: 0.2177\n",
      "Epoch 96/100\n",
      "45/46 [============================>.] - ETA: 0s - loss: 0.2204WARNING:tensorflow:Early stopping conditioned on metric `val_loss` which is not available. Available metrics are: loss\n",
      "46/46 [==============================] - 0s 9ms/step - loss: 0.2205\n",
      "Epoch 97/100\n",
      "44/46 [===========================>..] - ETA: 0s - loss: 0.2161WARNING:tensorflow:Early stopping conditioned on metric `val_loss` which is not available. Available metrics are: loss\n",
      "46/46 [==============================] - 0s 9ms/step - loss: 0.2165\n",
      "Epoch 98/100\n",
      "43/46 [===========================>..] - ETA: 0s - loss: 0.2160WARNING:tensorflow:Early stopping conditioned on metric `val_loss` which is not available. Available metrics are: loss\n",
      "46/46 [==============================] - 1s 12ms/step - loss: 0.2164\n",
      "Epoch 99/100\n",
      "44/46 [===========================>..] - ETA: 0s - loss: 0.2194WARNING:tensorflow:Early stopping conditioned on metric `val_loss` which is not available. Available metrics are: loss\n",
      "46/46 [==============================] - 1s 15ms/step - loss: 0.2197\n",
      "Epoch 100/100\n",
      "42/46 [==========================>...] - ETA: 0s - loss: 0.2176WARNING:tensorflow:Early stopping conditioned on metric `val_loss` which is not available. Available metrics are: loss\n",
      "46/46 [==============================] - 0s 9ms/step - loss: 0.2176\n"
     ]
    },
    {
     "data": {
      "text/plain": [
       "<keras.callbacks.History at 0x7fe1091a8c40>"
      ]
     },
     "execution_count": 360,
     "metadata": {},
     "output_type": "execute_result"
    }
   ],
   "source": [
    "model.fit(X_train, y_train,\n",
    "    batch_size=512,\n",
    "    epochs=100,\n",
    "    callbacks=[early_stopping]) # hide the output because we have so many epochs"
   ]
  },
  {
   "cell_type": "code",
   "execution_count": 361,
   "id": "567d7e98",
   "metadata": {},
   "outputs": [
    {
     "name": "stdout",
     "output_type": "stream",
     "text": [
      "729/729 [==============================] - 3s 4ms/step\n"
     ]
    },
    {
     "data": {
      "text/plain": [
       "array([[9.9999672e-01],\n",
       "       [8.2814372e-01],\n",
       "       [5.1504213e-01],\n",
       "       ...,\n",
       "       [6.3312403e-03],\n",
       "       [2.6469484e-03],\n",
       "       [5.4946087e-12]], dtype=float32)"
      ]
     },
     "execution_count": 361,
     "metadata": {},
     "output_type": "execute_result"
    }
   ],
   "source": [
    "model.predict(X_train)"
   ]
  },
  {
   "cell_type": "code",
   "execution_count": null,
   "id": "905f0f11",
   "metadata": {},
   "outputs": [],
   "source": []
  }
 ],
 "metadata": {
  "kernelspec": {
   "display_name": "Python 3 (ipykernel)",
   "language": "python",
   "name": "python3"
  },
  "language_info": {
   "codemirror_mode": {
    "name": "ipython",
    "version": 3
   },
   "file_extension": ".py",
   "mimetype": "text/x-python",
   "name": "python",
   "nbconvert_exporter": "python",
   "pygments_lexer": "ipython3",
   "version": "3.8.8"
  }
 },
 "nbformat": 4,
 "nbformat_minor": 5
}
